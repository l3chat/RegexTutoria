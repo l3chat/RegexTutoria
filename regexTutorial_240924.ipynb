{
 "cells": [
  {
   "cell_type": "markdown",
   "metadata": {},
   "source": [
    "# Comprehensive Regular Expressions Tutorial\n",
    "\n",
    "This tutorial covers regular expressions from basics to advanced topics. Each section contains detailed explanations, examples, and interactive exercises."
   ]
  },
  {
   "cell_type": "markdown",
   "metadata": {},
   "source": [
    "## Table of Contents\n",
    "\n",
    "1. Introduction to Regular Expressions\n",
    "2. Basic Symbols\n",
    "3. Character Classes\n",
    "4. Quantifiers\n",
    "5. Anchors\n",
    "6. Grouping and Capturing\n",
    "7. Alternation\n",
    "8. Escaping Special Characters\n",
    "9. Lookahead and Lookbehind\n",
    "10. Non-Capturing Groups\n",
    "11. Flags\n",
    "12. Greedy vs. Non-Greedy Matching\n",
    "13. Word Boundaries\n",
    "14. Start and End of String\n",
    "15. Matching Digits and Non-Digits\n",
    "16. Matching Whitespace and Non-Whitespace\n",
    "17. Matching Word Characters and Non-Word Characters\n",
    "18. Backreferences\n",
    "19. Named Groups\n",
    "20. Conditional Expressions\n",
    "21. Unicode Matching\n",
    "22. Dotall Mode\n",
    "23. Verbose Mode\n",
    "24. Inline Modifiers\n",
    "25. Substitution\n",
    "26. Splitting Strings\n",
    "27. Finding All Matches\n",
    "28. Compiling Regular Expressions\n",
    "29. Performance Considerations\n",
    "30. Common Pitfalls\n",
    "31. Practical Examples\n",
    "32. Regular Expressions in Python\n",
    "33. Regular Expressions in JavaScript\n",
    "34. Regular Expressions in Java\n",
    "35. Regular Expressions in PHP\n",
    "36. Regular Expressions in Ruby\n",
    "37. Regular Expressions in Perl\n",
    "38. Regular Expressions in Shell Scripts\n",
    "39. Testing and Debugging Regular Expressions\n",
    "40. Resources and Further Reading"
   ]
  },
  {
   "cell_type": "markdown",
   "metadata": {},
   "source": [
    "## 1. Introduction to Regular Expressions\n",
    "\n",
    "Regular expressions (regex) are a powerful tool for matching patterns in text. They are commonly used for search, replace, and validation tasks in text processing.\n",
    "\n",
    "### Example\n",
    "To match the word \"hello\" in a text, you would use the pattern `hello`."
   ]
  },
  {
   "cell_type": "code",
   "execution_count": null,
   "metadata": {},
   "outputs": [],
   "source": [
    "# Example\n",
    "import re\n",
    "\n",
    "text = \"hello world\"\n",
    "pattern = r\"hello\"\n",
    "match = re.search(pattern, text)\n",
    "if match:\n",
    "    print(\"Match found!\")\n",
    "else:\n",
    "    print(\"No match.\")"
   ]
  },
  {
   "cell_type": "markdown",
   "metadata": {},
   "source": [
    "### Interactive Exercises\n",
    "\n",
    "1. Match the word `world` in the text `hello world`.\n",
    "2. Match the word `Python` in the text `I love Python`.\n",
    "3. Match the word `regex` in the text `Regular expressions are powerful`."
   ]
  },
  {
   "cell_type": "code",
   "execution_count": null,
   "metadata": {},
   "outputs": [],
   "source": [
    "# Exercise 1\n",
    "text = \"hello world\"\n",
    "pattern = r\"world\"\n",
    "match = re.search(pattern, text)\n",
    "if match:\n",
    "    print(\"Match found!\")\n",
    "else:\n",
    "    print(\"No match.\")"
   ]
  },
  {
   "cell_type": "code",
   "execution_count": null,
   "metadata": {},
   "outputs": [],
   "source": [
    "# Exercise 2\n",
    "text = \"I love Python\"\n",
    "pattern = r\"Python\"\n",
    "match = re.search(pattern, text)\n",
    "if match:\n",
    "    print(\"Match found!\")\n",
    "else:\n",
    "    print(\"No match.\")"
   ]
  },
  {
   "cell_type": "code",
   "execution_count": null,
   "metadata": {},
   "outputs": [],
   "source": [
    "# Exercise 3\n",
    "text = \"Regular expressions are powerful\"\n",
    "pattern = r\"regex\"\n",
    "match = re.search(pattern, text)\n",
    "if match:\n",
    "    print(\"Match found!\")\n",
    "else:\n",
    "    print(\"No match.\")"
   ]
  },
  {
   "cell_type": "markdown",
   "metadata": {},
   "source": [
    "## 2. Basic Symbols\n",
    "\n",
    "Regular expressions use a variety of symbols to define patterns. Here are some basic symbols:\n",
    "\n",
    "- `.`: Matches any character except a newline.\n",
    "- `^`: Matches the start of the string.\n",
    "- `$`: Matches the end of the string.\n",
    "- `*`: Matches 0 or more repetitions of the preceding element.\n",
    "- `+`: Matches 1 or more repetitions of the preceding element.\n",
    "- `?`: Matches 0 or 1 repetition of the preceding element."
   ]
  },
  {
   "cell_type": "code",
   "execution_count": null,
   "metadata": {},
   "outputs": [],
   "source": [
    "# Example\n",
    "text = \"hello\"\n",
    "pattern = r\"h.llo\"\n",
    "match = re.search(pattern, text)\n",
    "if match:\n",
    "    print(\"Match found!\")\n",
    "else:\n",
    "    print(\"No match.\")"
   ]
  },
  {
   "cell_type": "markdown",
   "metadata": {},
   "source": [
    "### Interactive Exercises\n",
    "\n",
    "1. Match any character in the text `a1b2c3`.\n",
    "2. Match the start of the string `^start` in the text `start here`.\n",
    "3. Match the end of the string `end$` in the text `the end`."
   ]
  },
  {
   "cell_type": "code",
   "execution_count": null,
   "metadata": {},
   "outputs": [],
   "source": [
    "# Exercise 1\n",
    "text = \"a1b2c3\"\n",
    "pattern = r\".\"\n",
    "matches = re.findall(pattern, text)\n",
    "print(matches)"
   ]
  },
  {
   "cell_type": "code",
   "execution_count": null,
   "metadata": {},
   "outputs": [],
   "source": [
    "# Exercise 2\n",
    "text = \"start here\"\n",
    "pattern = r\"^start\"\n",
    "match = re.search(pattern, text)\n",
    "if match:\n",
    "    print(\"Match found!\")\n",
    "else:\n",
    "    print(\"No match.\")"
   ]
  },
  {
   "cell_type": "code",
   "execution_count": null,
   "metadata": {},
   "outputs": [],
   "source": [
    "# Exercise 3\n",
    "text = \"the end\"\n",
    "pattern = r\"end$\"\n",
    "match = re.search(pattern, text)\n",
    "if match:\n",
    "    print(\"Match found!\")\n",
    "else:\n",
    "    print(\"No match.\")"
   ]
  },
  {
   "cell_type": "markdown",
   "metadata": {},
   "source": [
    "## 3. Character Classes\n",
    "\n",
    "Character classes allow you to match any one of a set of characters. Here are some examples:\n",
    "\n",
    "- `[abc]`: Matches any one of the characters a, b, or c.\n",
    "- `[a-z]`: Matches any one character from a to z.\n",
    "- `[0-9]`: Matches any one digit from 0 to 9."
   ]
  },
  {
   "cell_type": "code",
   "execution_count": null,
   "metadata": {},
   "outputs": [],
   "source": [
    "# Example\n",
    "text = \"cat\"\n",
    "pattern = r\"[cb]at\"\n",
    "match = re.search(pattern, text)\n",
    "if match:\n",
    "    print(\"Match found!\")\n",
    "else:\n",
    "    print(\"No match.\")"
   ]
  },
  {
   "cell_type": "markdown",
   "metadata": {},
   "source": [
    "### Interactive Exercises\n",
    "\n",
    "1. Match any one of the characters `a`, `b`, or `c` in the text `abc`.\n",
    "2. Match any one character from `a` to `z` in the text `hello`.\n",
    "3. Match any one digit from `0` to `9` in the text `123`."
   ]
  },
  {
   "cell_type": "code",
   "execution_count": null,
   "metadata": {},
   "outputs": [],
   "source": [
    "# Exercise 1\n",
    "text = \"abc\"\n",
    "pattern = r\"[abc]\"\n",
    "matches = re.findall(pattern, text)\n",
    "print(matches)"
   ]
  },
  {
   "cell_type": "code",
   "execution_count": null,
   "metadata": {},
   "outputs": [],
   "source": [
    "# Exercise 2\n",
    "text = \"hello\"\n",
    "pattern = r\"[a-z]\"\n",
    "matches = re.findall(pattern, text)\n",
    "print(matches)"
   ]
  },
  {
   "cell_type": "code",
   "execution_count": null,
   "metadata": {},
   "outputs": [],
   "source": [
    "# Exercise 3\n",
    "text = \"123\"\n",
    "pattern = r\"[0-9]\"\n",
    "matches = re.findall(pattern, text)\n",
    "print(matches)"
   ]
  },
  {
   "cell_type": "markdown",
   "metadata": {},
   "source": [
    "## 4. Quantifiers\n",
    "\n",
    "Quantifiers specify how many instances of a character, group, or character class must be present in the input for a match to be found:\n",
    "\n",
    "- `*`: 0 or more\n",
    "- `+`: 1 or more\n",
    "- `?`: 0 or 1\n",
    "- `{n}`: exactly n\n",
    "- `{n,}`: n or more\n",
    "- `{n,m}`: between n and m"
   ]
  },
  {
   "cell_type": "code",
   "execution_count": null,
   "metadata": {},
   "outputs": [],
   "source": [
    "# Example\n",
    "text = \"hello\"\n",
    "pattern = r\"l+\"\n",
    "matches = re.findall(pattern, text)\n",
    "print(matches)"
   ]
  },
  {
   "cell_type": "markdown",
   "metadata": {},
   "source": [
    "### Interactive Exercises\n",
    "\n",
    "1. Match 0 or more `a` in the text `aaab`.\n",
    "2. Match 1 or more `b` in the text `bbbc`.\n",
    "3. Match exactly 2 `c` in the text `ccc`."
   ]
  },
  {
   "cell_type": "code",
   "execution_count": null,
   "metadata": {},
   "outputs": [],
   "source": [
    "# Exercise 1\n",
    "text = \"aaab\"\n",
    "pattern = r\"a*\"\n",
    "matches = re.findall(pattern, text)\n",
    "print(matches)"
   ]
  },
  {
   "cell_type": "code",
   "execution_count": null,
   "metadata": {},
   "outputs": [],
   "source": [
    "# Exercise 2\n",
    "text = \"bbbc\"\n",
    "pattern = r\"b+\"\n",
    "matches = re.findall(pattern, text)\n",
    "print(matches)"
   ]
  },
  {
   "cell_type": "code",
   "execution_count": null,
   "metadata": {},
   "outputs": [],
   "source": [
    "# Exercise 3\n",
    "text = \"ccc\"\n",
    "pattern = r\"c{2}\"\n",
    "matches = re.findall(pattern, text)\n",
    "print(matches)"
   ]
  },
  {
   "cell_type": "markdown",
   "metadata": {},
   "source": [
    "## 5. Anchors\n",
    "\n",
    "Anchors are used to specify the position of the match:\n",
    "\n",
    "- `^`: Start of string\n",
    "- `$`: End of string\n",
    "- `\\b`: Word boundary\n",
    "- `\\B`: Non-word boundary"
   ]
  },
  {
   "cell_type": "code",
   "execution_count": null,
   "metadata": {},
   "outputs": [],
   "source": [
    "# Example\n",
    "text = \"hello world\"\n",
    "pattern = r\"^hello\"\n",
    "match = re.search(pattern, text)\n",
    "if match:\n",
    "    print(\"Match found!\")\n",
    "else:\n",
    "    print(\"No match.\")"
   ]
  },
  {
   "cell_type": "markdown",
   "metadata": {},
   "source": [
    "### Interactive Exercises\n",
    "\n",
    "1. Match the start of the string `^start` in the text `start here`.\n",
    "2. Match the end of the string `end$` in the text `the end`.\n",
    "3. Match the word boundary `\\bword\\b` in the text `a word in a sentence`."
   ]
  },
  {
   "cell_type": "code",
   "execution_count": null,
   "metadata": {},
   "outputs": [],
   "source": [
    "# Exercise 1\n",
    "text = \"start here\"\n",
    "pattern = r\"^start\"\n",
    "match = re.search(pattern, text)\n",
    "if match:\n",
    "    print(\"Match found!\")\n",
    "else:\n",
    "    print(\"No match.\")"
   ]
  },
  {
   "cell_type": "code",
   "execution_count": null,
   "metadata": {},
   "outputs": [],
   "source": [
    "# Exercise 2\n",
    "text = \"the end\"\n",
    "pattern = r\"end$\"\n",
    "match = re.search(pattern, text)\n",
    "if match:\n",
    "    print(\"Match found!\")\n",
    "else:\n",
    "    print(\"No match.\")"
   ]
  },
  {
   "cell_type": "code",
   "execution_count": null,
   "metadata": {},
   "outputs": [],
   "source": [
    "# Exercise 3\n",
    "text = \"a word in a sentence\"\n",
    "pattern = r\"\\bword\\b\"\n",
    "match = re.search(pattern, text)\n",
    "if match:\n",
    "    print(\"Match found!\")\n",
    "else:\n",
    "    print(\"No match.\")"
   ]
  },
  {
   "cell_type": "markdown",
   "metadata": {},
   "source": [
    "## 6. Grouping and Capturing\n",
    "\n",
    "Parentheses `()` are used for grouping and capturing:\n",
    "\n",
    "- `(abc)`: Matches and captures `abc`.\n",
    "- `(a|b)`: Matches either `a` or `b`."
   ]
  },
  {
   "cell_type": "code",
   "execution_count": null,
   "metadata": {},
   "outputs": [],
   "source": [
    "# Example\n",
    "text = \"hello\"\n",
    "pattern = r\"(h)(e)(l)(l)(o)\"\n",
    "match = re.search(pattern, text)\n",
    "if match:\n",
    "    print(match.groups())\n",
    "else:\n",
    "    print(\"No match.\")"
   ]
  },
  {
   "cell_type": "markdown",
   "metadata": {},
   "source": [
    "### Interactive Exercises\n",
    "\n",
    "1. Capture the groups `a` and `b` in the text `ab`.\n",
    "2. Match either `cat` or `dog` in the text `cat and dog`.\n",
    "3. Capture the groups `h`, `e`, and `llo` in the text `hello`."
   ]
  },
  {
   "cell_type": "code",
   "execution_count": null,
   "metadata": {},
   "outputs": [],
   "source": [
    "# Exercise 1\n",
    "text = \"ab\"\n",
    "pattern = r\"(a)(b)\"\n",
    "match = re.search(pattern, text)\n",
    "if match:\n",
    "    print(match.groups())\n",
    "    else:\n",
    "        print(\"No match.\")"
   ]
  },
  {
   "cell_type": "code",
   "execution_count": null,
   "metadata": {},
   "outputs": [],
   "source": [
    "# Exercise 2\n",
    "text = \"cat and dog\"\n",
    "pattern = r\"(cat|dog)\"\n",
    "matches = re.findall(pattern, text)\n",
    "print(matches)"
   ]
  },
  {
   "cell_type": "code",
   "execution_count": null,
   "metadata": {},
   "outputs": [],
   "source": [
    "# Exercise 3\n",
    "text = \"hello\"\n",
    "pattern = r\"(h)(e)(llo)\"\n",
    "match = re.search(pattern, text)\n",
    "if match:\n",
    "    print(match.groups())\n",
    "else:\n",
    "    print(\"No match.\")"
   ]
  },
  {
   "cell_type": "markdown",
   "metadata": {},
   "source": [
    "## 7. Alternation\n",
    "\n",
    "Alternation is used to match one of several patterns. The pipe symbol `|` is used for alternation.\n",
    "\n",
    "### Example\n",
    "To match either `cat` or `dog` in a text, you would use the pattern `cat|dog`."
   ]
  },
  {
   "cell_type": "code",
   "execution_count": null,
   "metadata": {},
   "outputs": [],
   "source": [
    "# Example\n",
    "text = \"I have a cat and a dog\"\n",
    "pattern = r\"cat|dog\"\n",
    "matches = re.findall(pattern, text)\n",
    "print(matches)"
   ]
  },
  {
   "cell_type": "markdown",
   "metadata": {},
   "source": [
    "### Interactive Exercises\n",
    "\n",
    "1. Match either `apple` or `orange` in the text `I like apple and orange`.\n",
    "2. Match either `red` or `blue` in the text `red, green, blue`.\n",
    "3. Match either `cat`, `dog`, or `bird` in the text `I have a cat, a dog, and a bird`."
   ]
  },
  {
   "cell_type": "code",
   "execution_count": null,
   "metadata": {},
   "outputs": [],
   "source": [
    "# Exercise 1\n",
    "text = \"I like apple and orange\"\n",
    "pattern = r\"apple|orange\"\n",
    "matches = re.findall(pattern, text)\n",
    "print(matches)"
   ]
  },
  {
   "cell_type": "code",
   "execution_count": null,
   "metadata": {},
   "outputs": [],
   "source": [
    "# Exercise 2\n",
    "text = \"red, green, blue\"\n",
    "pattern = r\"red|blue\"\n",
    "matches = re.findall(pattern, text)\n",
    "print(matches)"
   ]
  },
  {
   "cell_type": "code",
   "execution_count": null,
   "metadata": {},
   "outputs": [],
   "source": [
    "# Exercise 3\n",
    "text = \"I have a cat, a dog, and a bird\"\n",
    "pattern = r\"cat|dog|bird\"\n",
    "matches = re.findall(pattern, text)\n",
    "print(matches)"
   ]
  },
  {
   "cell_type": "markdown",
   "metadata": {},
   "source": [
    "## 8. Escaping Special Characters\n",
    "\n",
    "Special characters in regular expressions include `. ^ $ * + ? { } [ ] \\ | ( )`. To match these characters literally, you need to escape them with a backslash `\\`.\n",
    "\n",
    "### Example\n",
    "To match the character `.` in a text, you would use the pattern `\\.`."
   ]
  },
  {
   "cell_type": "code",
   "execution_count": null,
   "metadata": {},
   "outputs": [],
   "source": [
    "# Example\n",
    "text = \"example.com\"\n",
    "pattern = r\"\\.\"\n",
    "match = re.search(pattern, text)\n",
    "if match:\n",
    "    print(\"Match found!\")\n",
    "else:\n",
    "    print(\"No match.\")"
   ]
  },
  {
   "cell_type": "markdown",
   "metadata": {},
   "source": [
    "### Interactive Exercises\n",
    "\n",
    "1. Match the character `?` in the text `Is this correct?`.\n",
    "2. Match the character `*` in the text `5 * 3 = 15`.\n",
    "3. Match the character `[` in the text `Array[0]`."
   ]
  },
  {
   "cell_type": "code",
   "execution_count": null,
   "metadata": {},
   "outputs": [],
   "source": [
    "# Exercise 1\n",
    "text = \"Is this correct?\"\n",
    "pattern = r\"\\?\"\n",
    "match = re.search(pattern, text)\n",
    "if match:\n",
    "    print(\"Match found!\")\n",
    "else:\n",
    "    print(\"No match.\")"
   ]
  },
  {
   "cell_type": "code",
   "execution_count": null,
   "metadata": {},
   "outputs": [],
   "source": [
    "# Exercise 2\n",
    "text = \"5 * 3 = 15\"\n",
    "pattern = r\"\\*\"\n",
    "match = re.search(pattern, text)\n",
    "if match:\n",
    "    print(\"Match found!\")\n",
    "else:\n",
    "    print(\"No match.\")"
   ]
  },
  {
   "cell_type": "code",
   "execution_count": null,
   "metadata": {},
   "outputs": [],
   "source": [
    "# Exercise 3\n",
    "text = \"Array[0]\"\n",
    "pattern = r\"\\[\"\n",
    "match = re.search(pattern, text)\n",
    "if match:\n",
    "    print(\"Match found!\")\n",
    "else:\n",
    "    print(\"No match.\")"
   ]
  },
  {
   "cell_type": "markdown",
   "metadata": {},
   "source": [
    "## 9. Lookahead and Lookbehind\n",
    "\n",
    "Lookahead and lookbehind are used to assert that a pattern is followed or preceded by another pattern.\n",
    "\n",
    "- Positive lookahead `(?=...)`\n",
    "- Negative lookahead `(?!...)`\n",
    "- Positive lookbehind `(?<=...)`\n",
    "- Negative lookbehind `(?<!...)`"
   ]
  },
  {
   "cell_type": "code",
   "execution_count": null,
   "metadata": {},
   "outputs": [],
   "source": [
    "# Example\n",
    "text = \"foo123\"\n",
    "pattern = r\"foo(?=123)\"\n",
    "match = re.search(pattern, text)\n",
    "if match:\n",
    "    print(\"Match found!\")\n",
    "else:\n",
    "    print(\"No match.\")"
   ]
  },
  {
   "cell_type": "markdown",
   "metadata": {},
   "source": [
    "### Interactive Exercises\n",
    "\n",
    "1. Match `hello` only if it is followed by `world` in the text `hello world`.\n",
    "2. Match `foo` only if it is not followed by `bar` in the text `foobar`.\n",
    "3. Match `123` only if it is preceded by `abc` in the text `abc123`."
   ]
  },
  {
   "cell_type": "code",
   "execution_count": null,
   "metadata": {},
   "outputs": [],
   "source": [
    "# Exercise 1\n",
    "text = \"hello world\"\n",
    "pattern = r\"hello(?= world)\"\n",
    "match = re.search(pattern, text)\n",
    "if match:\n",
    "    print(\"Match found!\")\n",
    "else:\n",
    "    print(\"No match.\")"
   ]
  },
  {
   "cell_type": "code",
   "execution_count": null,
   "metadata": {},
   "outputs": [],
   "source": [
    "# Exercise 2\n",
    "text = \"foobar\"\n",
    "pattern = r\"foo(?!bar)\"\n",
    "match = re.search(pattern, text)\n",
    "if match:\n",
    "    print(\"Match found!\")\n",
    "else:\n",
    "    print(\"No match.\")"
   ]
  },
  {
   "cell_type": "code",
   "execution_count": null,
   "metadata": {},
   "outputs": [],
   "source": [
    "# Exercise 3\n",
    "text = \"abc123\"\n",
    "pattern = r\"(?<=abc)123\"\n",
    "match = re.search(pattern, text)\n",
    "if match:\n",
    "    print(\"Match found!\")\n",
    "else:\n",
    "    print(\"No match.\")"
   ]
  },
  {
   "cell_type": "markdown",
   "metadata": {},
   "source": [
    "## 10. Non-Capturing Groups\n",
    "\n",
    "Non-capturing groups are used to group patterns without capturing them. They are defined using `(?:...)`.\n",
    "\n",
    "### Example\n",
    "To match `cat` or `dog` without capturing the group, you would use the pattern `(?:cat|dog)`."
   ]
  },
  {
   "cell_type": "code",
   "execution_count": null,
   "metadata": {},
   "outputs": [],
   "source": [
    "# Example\n",
    "text = \"I have a cat and a dog\"\n",
    "pattern = r\"(?:cat|dog)\"\n",
    "matches = re.findall(pattern, text)\n",
    "print(matches)"
   ]
  },
  {
   "cell_type": "markdown",
   "metadata": {},
   "source": [
    "### Interactive Exercises\n",
    "\n",
    "1. Match `apple` or `orange` without capturing the group in the text `I like apple and orange`.\n",
    "2. Match `red` or `blue` without capturing the group in the text `red, green, blue`.\n",
    "3. Match `cat`, `dog`, or `bird` without capturing the group in the text `I have a cat, a dog, and a bird`."
   ]
  },
  {
   "cell_type": "code",
   "execution_count": null,
   "metadata": {},
   "outputs": [],
   "source": [
    "# Exercise 1\n",
    "text = \"I like apple and orange\"\n",
    "pattern = r\"(?:apple|orange)\"\n",
    "matches = re.findall(pattern, text)\n",
    "print(matches)"
   ]
  },
  {
   "cell_type": "code",
   "execution_count": null,
   "metadata": {},
   "outputs": [],
   "source": [
    "# Exercise 2\n",
    "text = \"red, green, blue\"\n",
    "pattern = r\"(?:red|blue)\"\n",
    "matches = re.findall(pattern, text)\n",
    "print(matches)"
   ]
  },
  {
   "cell_type": "code",
   "execution_count": null,
   "metadata": {},
   "outputs": [],
   "source": [
    "# Exercise 3\n",
    "text = \"I have a cat, a dog, and a bird\"\n",
    "pattern = r\"(?:cat|dog|bird)\"\n",
    "matches = re.findall(pattern, text)\n",
    "print(matches)"
   ]
  },
  {
   "cell_type": "markdown",
   "metadata": {},
   "source": [
    "## 11. Flags\n",
    "\n",
    "Flags are used to modify the behavior of the regular expression. Some common flags include:\n",
    "\n",
    "- `re.IGNORECASE` (or `re.I`): Ignore case\n",
    "- `re.MULTILINE` (or `re.M`): Multi-line matching\n",
    "- `re.DOTALL` (or `re.S`): Dot matches all characters, including newline\n",
    "- `re.VERBOSE` (or `re.X`): Allow verbose regexps"
   ]
  },
  {
   "cell_type": "code",
   "execution_count": null,
   "metadata": {},
   "outputs": [],
   "source": [
    "# Example\n",
    "text = \"Hello World\"\n",
    "pattern = r\"hello\"\n",
    "match = re.search(pattern, text, re.IGNORECASE)\n",
    "if match:\n",
    "    print(\"Match found!\")\n",
    "else:\n",
    "    print(\"No match.\")"
   ]
  },
  {
   "cell_type": "markdown",
   "metadata": {},
   "source": [
    "### Interactive Exercises\n",
    "\n",
    "1. Match `hello` in the text `Hello World` ignoring case.\n",
    "2. Match `^start` in the text `start here` with multi-line matching.\n",
    "3. Match `.` in the text `line1\\nline2` including newline characters."
   ]
  },
  {
   "cell_type": "code",
   "execution_count": null,
   "metadata": {},
   "outputs": [],
   "source": [
    "# Exercise 1\n",
    "text = \"Hello World\"\n",
    "pattern = r\"hello\"\n",
    "match = re.search(pattern, text, re.IGNORECASE)\n",
    "if match:\n",
    "    print(\"Match found!\")\n",
    "else:\n",
    "    print(\"No match.\")"
   ]
  },
  {
   "cell_type": "code",
   "execution_count": null,
   "metadata": {},
   "outputs": [],
   "source": [
    "# Exercise 2\n",
    "text = \"start here\"\n",
    "pattern = r\"^start\"\n",
    "match = re.search(pattern, text, re.MULTILINE)\n",
    "if match:\n",
    "    print(\"Match found!\")\n",
    "else:\n",
    "    print(\"No match.\")"
   ]
  },
  {
   "cell_type": "code",
   "execution_count": null,
   "metadata": {},
   "outputs": [],
   "source": [
    "# Exercise 3\n",
    "text = \"line1\\nline2\"\n",
    "pattern = r\".\"\n",
    "matches = re.findall(pattern, text, re.DOTALL)\n",
    "print(matches)"
   ]
  },
  {
   "cell_type": "markdown",
   "metadata": {},
   "source": [
    "## 12. Greedy vs. Non-Greedy Matching\n",
    "\n",
    "By default, quantifiers are greedy, meaning they match as much as possible. Non-greedy (or lazy) matching can be achieved by appending a `?` to the quantifier.\n",
    "\n",
    "### Example\n",
    "To match the smallest possible string between `<` and `>`, you would use the pattern `<.*?>`."
   ]
  },
  {
   "cell_type": "code",
   "execution_count": null,
   "metadata": {},
   "outputs": [],
   "source": [
    "# Example\n",
    "text = \"<div>content</div>\"\n",
    "pattern = r\"<.*?>\"\n",
    "matches = re.findall(pattern, text)\n",
    "print(matches)"
   ]
  },
  {
   "cell_type": "markdown",
   "metadata": {},
   "source": [
    "### Interactive Exercises\n",
    "\n",
    "1. Match the smallest string between `<` and `>` in the text `<div>content</div>`.\n",
    "2. Match the smallest string between `\"` in the text `\"hello\" world \"python\"`.\n",
    "3. Match the smallest string between `{` and `}` in the text `{key:value}`."
   ]
  },
  {
   "cell_type": "code",
   "execution_count": null,
   "metadata": {},
   "outputs": [],
   "source": [
    "# Exercise 1\n",
    "text = \"<div>content</div>\"\n",
    "pattern = r\"<.*?>\"\n",
    "matches = re.findall(pattern, text)\n",
    "print(matches)"
   ]
  },
  {
   "cell_type": "code",
   "execution_count": null,
   "metadata": {},
   "outputs": [],
   "source": [
    "# Exercise 2\n",
    "text = \"\\\"hello\\\" world \\\"python\\\"\"\n",
    "pattern = r\"\\\".*?\\\"\"\n",
    "matches = re.findall(pattern, text)\n",
    "print(matches)"
   ]
  },
  {
   "cell_type": "code",
   "execution_count": null,
   "metadata": {},
   "outputs": [],
   "source": [
    "# Exercise 3\n",
    "text = \"{key:value}\"\n",
    "pattern = r\"{.*?}\"\n",
    "matches = re.findall(pattern, text)\n",
    "print(matches)"
   ]
  },
  {
   "cell_type": "markdown",
   "metadata": {},
   "source": [
   "## 13. Word Boundaries\n",
    "\n",
    "Word boundaries are used to match the position between a word character and a non-word character. They are represented by `\\b`.\n",
    "\n",
    "### Example\n",
    "To match the word `cat` as a whole word, you would use the pattern `\\bcat\\b`."
   ]
  },
  {
   "cell_type": "code",
   "execution_count": null,
   "metadata": {},
   "outputs": [],
   "source": [
    "# Example\n",
    "text = \"I have a cat.\"\n",
    "pattern = r\"\\bcat\\b\"\n",
    "match = re.search(pattern, text)\n",
    "if match:\n",
    "    print(\"Match found!\")\n",
    "else:\n",
    "    print(\"No match.\")"
   ]
  },
  {
   "cell_type": "markdown",
   "metadata": {},
   "source": [
    "### Interactive Exercises\n",
    "\n",
    "1. Match the word `dog` as a whole word in the text `I have a dog.`.\n",
    "2. Match the word `hello` as a whole word in the text `hello world!`.\n",
    "3. Match the word `python` as a whole word in the text `I love python programming`."
   ]
  },
  {
   "cell_type": "code",
   "execution_count": null,
   "metadata": {},
   "outputs": [],
   "source": [
    "# Exercise 1\n",
    "text = \"I have a dog.\"\n",
    "pattern = r\"\\bdog\\b\"\n",
    "match = re.search(pattern, text)\n",
    "if match:\n",
    "    print(\"Match found!\")\n",
    "else:\n",
    "    print(\"No match.\")"
   ]
  },
  {
   "cell_type": "code",
   "execution_count": null,
   "metadata": {},
   "outputs": [],
   "source": [
    "# Exercise 2\n",
    "text = \"hello world!\"\n",
    "pattern = r\"\\bhello\\b\"\n",
    "match = re.search(pattern, text)\n",
    "if match:\n",
    "    print(\"Match found!\")\n",
    "else:\n",
    "    print(\"No match.\")"
   ]
  },
  {
   "cell_type": "code",
   "execution_count": null,
   "metadata": {},
   "outputs": [],
   "source": [
    "# Exercise 3\n",
    "text = \"I love python programming\"\n",
    "pattern = r\"\\bpython\\b\"\n",
    "match = re.search(pattern, text)\n",
    "if match:\n",
    "    print(\"Match found!\")\n",
    "else:\n",
    "    print(\"No match.\")"
   ]
  },
  {
   "cell_type": "markdown",
   "metadata": {},
   "source": [
    "## 14. Start and End of String\n",
    "\n",
    "The `^` symbol matches the start of a string, and the `$` symbol matches the end of a string.\n",
    "\n",
    "### Example\n",
    "To match the string `hello` at the start of a text, you would use the pattern `^hello`."
   ]
  },
  {
   "cell_type": "code",
   "execution_count": null,
   "metadata": {},
   "outputs": [],
   "source": [
    "# Example\n",
    "text = \"hello world\"\n",
    "pattern = r\"^hello\"\n",
    "match = re.search(pattern, text)\n",
    "if match:\n",
    "    print(\"Match found!\")\n",
    "else:\n",
    "    print(\"No match.\")"
   ]
  },
  {
   "cell_type": "markdown",
   "metadata": {},
   "source": [
    "### Interactive Exercises\n",
    "\n",
    "1. Match the string `start` at the beginning of the text `start here`.\n",
    "2. Match the string `end` at the end of the text `this is the end`.\n",
    "3. Match the string `Python` at the beginning of the text `Python is great`."
   ]
  },
  {
   "cell_type": "code",
   "execution_count": null,
   "metadata": {},
   "outputs": [],
   "source": [
    "# Exercise 1\n",
    "text = \"start here\"\n",
    "pattern = r\"^start\"\n",
    "match = re.search(pattern, text)\n",
    "if match:\n",
    "    print(\"Match found!\")\n",
    "else:\n",
    "    print(\"No match.\")"
   ]
  },
  {
   "cell_type": "code",
   "execution_count": null,
   "metadata": {},
   "outputs": [],
   "source": [
    "# Exercise 2\n",
    "text = \"this is the end\"\n",
    "pattern = r\"end$\"\n",
    "match = re.search(pattern, text)\n",
    "if match:\n",
    "    print(\"Match found!\")\n",
    "else:\n",
    "    print(\"No match.\")"
   ]
  },
  {
   "cell_type": "code",
   "execution_count": null,
   "metadata": {},
   "outputs": [],
   "source": [
    "# Exercise 3\n",
    "text = \"Python is great\"\n",
    "pattern = r\"^Python\"\n",
    "match = re.search(pattern, text)\n",
    "if match:\n",
    "    print(\"Match found!\")\n",
    "else:\n",
    "    print(\"No match.\")"
   ]
  },
  {
   "cell_type": "markdown",
   "metadata": {},
   "source": [
    "## 15. Matching Digits and Non-Digits\n",
    "\n",
    "The `\\d` symbol matches any digit, while `\\D` matches any non-digit.\n",
    "\n",
    "### Example\n",
    "To match any digit in a text, you would use the pattern `\\d`."
   ]
  },
  {
   "cell_type": "code",
   "execution_count": null,
   "metadata": {},
   "outputs": [],
   "source": [
    "# Example\n",
    "text = \"There are 2 apples\"\n",
    "pattern = r\"\\d\"\n",
    "matches = re.findall(pattern, text)\n",
    "print(matches)"
   ]
  },
  {
   "cell_type": "markdown",
   "metadata": {},
   "source": [
    "### Interactive Exercises\n",
    "\n",
    "1. Match any digit in the text `123abc`.\n",
    "2. Match any non-digit in the text `123abc`.\n",
    "3. Match any digit in the text `Price: $100.00`."
   ]
  },
  {
   "cell_type": "code",
   "execution_count": null,
   "metadata": {},
   "outputs": [],
   "source": [
    "# Exercise 1\n",
    "text = \"123abc\"\n",
    "pattern = r\"\\d\"\n",
    "matches = re.findall(pattern, text)\n",
    "print(matches)"
   ]
  },
  {
   "cell_type": "code",
   "execution_count": null,
   "metadata": {},
   "outputs": [],
   "source": [
    "# Exercise 2\n",
    "text = \"123abc\"\n",
    "pattern = r\"\\D\"\n",
    "matches = re.findall(pattern, text)\n",
    "print(matches)"
   ]
  },
  {
   "cell_type": "code",
   "execution_count": null,
   "metadata": {},
   "outputs": [],
   "source": [
    "# Exercise 3\n",
    "text = \"Price: $100.00\"\n",
    "pattern = r\"\\d\"\n",
    "matches = re.findall(pattern, text)\n",
    "print(matches)"
   ]
  },
  {
   "cell_type": "markdown",
   "metadata": {},
   "source": [
    "## 16. Matching Whitespace and Non-Whitespace\n",
    "\n",
    "The `\\s` symbol matches any whitespace character, while `\\S` matches any non-whitespace character.\n",
    "\n",
    "### Example\n",
    "To match any whitespace character in a text, you would use the pattern `\\s`."
   ]
  },
  {
   "cell_type": "code",
   "execution_count": null,
   "metadata": {},
   "outputs": [],
   "source": [
    "# Example\n",
    "text = \"Hello World\"\n",
    "pattern = r\"\\s\"\n",
    "matches = re.findall(pattern, text)\n",
    "print(matches)"
   ]
  },
  {
   "cell_type": "markdown",
   "metadata": {},
   "source": [
    "### Interactive Exercises\n",
    "\n",
    "1. Match any whitespace character in the text `Hello World`.\n",
    "2. Match any non-whitespace character in the text `Hello World`.\n",
    "3. Match any whitespace character in the text `a\\tb\\nc`."
   ]
  },
  {
   "cell_type": "code",
   "execution_count": null,
   "metadata": {},
   "outputs": [],
   "source": [
    "# Exercise 1\n",
    "text = \"Hello World\"\n",
    "pattern = r\"\\s\"\n",
    "matches = re.findall(pattern, text)\n",
    "print(matches)"
   ]
  },
  {
   "cell_type": "code",
   "execution_count": null,
   "metadata": {},
   "outputs": [],
   "source": [
    "# Exercise 2\n",
    "text = \"Hello World\"\n",
    "pattern = r\"\\S\"\n",
    "matches = re.findall(pattern, text)\n",
    "print(matches)"
   ]
  },
  {
   "cell_type": "code",
   "execution_count": null,
   "metadata": {},
   "outputs": [],
   "source": [
    "# Exercise 3\n",
    "text = \"a\\tb\\nc\"\n",
    "pattern = r\"\\s\"\n",
    "matches = re.findall(pattern, text)\n",
    "print(matches)"
   ]
  },
  {
   "cell_type": "markdown",
   "metadata": {},
   "source": [
    "## 17. Matching Word Characters and Non-Word Characters\n",
    "\n",
    "The `\\w` symbol matches any word character (alphanumeric plus underscore), while `\\W` matches any non-word character.\n",
    "\n",
    "### Example\n",
    "To match any word character in a text, you would use the pattern `\\w`."
   ]
  },
  {
   "cell_type": "code",
   "execution_count": null,
   "metadata": {},
   "outputs": [],
   "source": [
    "# Example\n",
    "text = \"Hello_World123\"\n",
    "pattern = r\"\\w\"\n",
    "matches = re.findall(pattern, text)\n",
    "print(matches)"
   ]
  },
  {
   "cell_type": "markdown",
   "metadata": {},
   "source": [
    "### Interactive Exercises\n",
    "\n",
    "1. Match any word character in the text `Hello_World123`.\n",
    "2. Match any non-word character in the text `Hello, World!`.\n",
    "3. Match any word character in the text `a_b-c`."
   ]
  },
  {
   "cell_type": "code",
   "execution_count": null,
   "metadata": {},
   "outputs": [],
   "source": [
    "# Exercise 1\n",
    "text = \"Hello_World123\"\n",
    "pattern = r\"\\w\"\n",
    "matches = re.findall(pattern, text)\n",
    "print(matches)"
   ]
  },
  {
   "cell_type": "code",
   "execution_count": null,
   "metadata": {},
   "outputs": [],
   "source": [
    "# Exercise 2\n",
    "text = \"Hello, World!\"\n",
    "pattern = r\"\\W\"\n",
    "matches = re.findall(pattern, text)\n",
    "print(matches)"
   ]
  },
  {
   "cell_type": "code",
   "execution_count": null,
   "metadata": {},
   "outputs": [],
   "source": [
    "# Exercise 3\n",
    "text = \"a_b-c\"\n",
    "pattern = r\"\\w\"\n",
    "matches = re.findall(pattern, text)\n",
    "print(matches)"
   ]
  },
  {
   "cell_type": "markdown",
   "metadata": {},
   "source": [
    "## 18. Backreferences\n",
    "\n",
    "Backreferences allow you to reuse a previously captured group. They are represented by `\\1`, `\\2`, etc., where the number corresponds to the group number.\n",
    "\n",
    "### Example\n",
    "To match a pair of repeated words, you would use the pattern `\\b(\\w+) \\1\\b`."
   ]
  },
  {
   "cell_type": "code",
   "execution_count": null,
   "metadata": {},
   "outputs": [],
   "source": [
    "# Example\n",
    "text = \"hello hello\"\n",
    "pattern = r\"\\b(\\w+) \\1\\b\"\n",
    "match = re.search(pattern, text)\n",
    "if match:\n",
    "    print(\"Match found!\")\n",
    "else:\n",
    "    print(\"No match.\")"
   ]
  },
  {
   "cell_type": "markdown",
   "metadata": {},
   "source": [
    "### Interactive Exercises\n",
    "\n",
    "1. Match a pair of repeated words in the text `test test`.\n",
    "2. Match a pair of repeated digits in the text `123 123`.\n",
    "3. Match a pair of repeated characters in the text `aa bb cc`."
   ]
  },
  {
   "cell_type": "code",
   "execution_count": null,
   "metadata": {},
   "outputs": [],
   "source": [
    "# Exercise 1\n",
    "text = \"test test\"\n",
    "pattern = r\"\\b(\\w+) \\1\\b\"\n",
    "match = re.search(pattern, text)\n",
    "if match:\n",
    "    print(\"Match found!\")\n",
    "else:\n",
    "    print(\"No match.\")"
   ]
  },
  {
   "cell_type": "code",
   "execution_count": null,
   "metadata": {},
   "outputs": [],
   "source": [
    "# Exercise 2\n",
    "text = \"123 123\"\n",
    "pattern = r\"\\b(\\d+) \\1\\b\"\n",
    "match = re.search(pattern, text)\n",
    "if match:\n",
    "    print(\"Match found!\")\n",
    "else:\n",
    "    print(\"No match.\")"
   ]
  },
  {
   "cell_type": "code",
   "execution_count": null,
   "metadata": {},
   "outputs": [],
   "source": [
    "# Exercise 3\n",
    "text = \"aa bb cc\"\n",
    "pattern = r\"\\b(\\w) \\1\\b\"\n",
    "match = re.search(pattern, text)\n",
    "if match:\n",
    "    print(\"Match found!\")\n",
    "else:\n",
    "    print(\"No match.\")"
   ]
  },
  {
   "cell_type": "markdown",
   "metadata": {},
   "source": [
    "## 19. Named Groups\n",
    "\n",
    "Named groups allow you to assign a name to a capturing group. They are defined using `(?P<name>...)`.\n",
    "\n",
    "### Example\n",
    "To match and capture a date in the format `YYYY-MM-DD`, you would use the pattern `(?P<year>\\d{4})-(?P<month>\\d{2})-(?P<day>\\d{2})`."
   ]
  },
  {
   "cell_type": "code",
   "execution_count": null,
   "metadata": {},
   "outputs": [],
   "source": [
    "# Example\n",
    "text = \"2024-09-25\"\n",
    "pattern = r\"(?P<year>\\d{4})-(?P<month>\\d{2})-(?P<day>\\d{2})\"\n",
    "match = re.search(pattern, text)\n",
    "if match:\n",
    "    print(match.groupdict())\n",
    "else:\n",
    "    print(\"No match.\")"
   ]
  },
  {
   "cell_type": "markdown",
   "metadata": {},
   "source": [
    "### Interactive Exercises\n",
    "\n",
    "1. Capture the year, month, and day in the date `2024-09-25`.\n",
    "2. Capture the first name and last name in the text `John Doe`.\n",
    "3. Capture the area code and phone number in the text `(123) 456-7890`."
   ]
  },
  {
   "cell_type": "code",
   "execution_count": null,
   "metadata": {},
   "outputs": [],
   "source": [
    "# Exercise 1\n",
    "text = \"2024-09-25\"\n",
    "pattern = r\"(?P<year>\\d{4})-(?P<month>\\d{2})-(?P<day>\\d{2})\"\n",
    "match = re.search(pattern, text)\n",
    "if match:\n",
    "    print(match.groupdict())\n",
    "else:\n",
    "    print(\"No match.\")"
   ]
  },
  {
   "cell_type": "code",
   "execution_count": null,
   "metadata": {},
   "outputs": [],
   "source": [
    "# Exercise 2\n",
    "text = \"John Doe\"\n",
    "pattern = r\"(?P<first_name>\\w+) (?P<last_name>\\w+)\"\n",
    "match = re.search(pattern, text)\n",
    "if match:\n",
    "    print(match.groupdict())\n",
    "else:\n",
    "    print(\"No match.\")"
   ]
  },
  {
   "cell_type": "code",
   "execution_count": null,
   "metadata": {},
   "outputs": [],
   "source": [
    "# Exercise 3\n",
    "text = \"(123) 456-7890\"\n",
    "pattern = r\"\\((?P<area_code>\\d{3})\\) (?P<phone_number>\\d{3}-\\d{4})\"\n",
    "match = re.search(pattern, text)\n",
    "if match:\n",
    "    print(match.groupdict())\n",
    "else:\n",
    "    print(\"No match.\")"
   ]
  },
  {
   "cell_type": "markdown",
   "metadata": {},
   "source": [
    "## 20. Conditional Expressions\n",
    "\n",
    "Conditional expressions allow you to apply different patterns based on the presence or absence of a capturing group. They are defined using `(?(id/name)yes-pattern|no-pattern)`.\n",
    "\n",
    "### Example\n",
    "To match `abc` if the string starts with `a`, otherwise match `xyz`, you would use the pattern `^(a)?(?(1)bc|xyz)`."
   ]
  },
  {
   "cell_type": "code",
   "execution_count": null,
   "metadata": {},
   "outputs": [],
   "source": [
    "# Example\n",
    "text1 = \"abc\"\n",
    "text2 = \"xyz\"\n",
    "pattern = r\"^(a)?(?(1)bc|xyz)\"\n",
    "match1 = re.search(pattern, text1)\n",
    "match2 = re.search(pattern, text2)\n",
    "print(\"Match1 found!\" if match1 else \"No match1.\")\n",
    "print(\"Match2 found!\" if match2 else \"No match2.\")"
   ]
  },
  {
   "cell_type": "markdown",
   "metadata": {},
   "source": [
    "### Interactive Exercises\n",
    "\n",
    "1. Match `abc` if the string starts with `a`, otherwise match `def` in the text `abc`.\n",
    "2. Match `123` if the string starts with `1`, otherwise match `456` in the text `123`.\n",
    "3. Match `foo` if the string starts with `f`, otherwise match `bar` in the text `foo`."
   ]
  },
  {
   "cell_type": "code",
   "execution_count": null,
   "metadata": {},
   "outputs": [],
   "source": [
    "# Exercise 1\n",
    "text = \"abc\"\n",
    "pattern = r\"^(a)?(?(1)bc|def)\"\n",
    "match = re.search(pattern, text)\n",
    "if match:\n",
    "    print(\"Match found!\")\n",
    "else:\n",
    "    print(\"No match.\")"
   ]
  },
  {
   "cell_type": "code",
   "execution_count": null,
   "metadata": {},
   "outputs": [],
   "source": [
    "# Exercise 2\n",
    "text = \"123\"\n",
    "pattern = r\"^(1)?(?(1)23|456)\"\n",
    "match = re.search(pattern, text)\n",
    "if match:\n",
    "    print(\"Match found!\")\n",
    "else:\n",
    "    print(\"No match.\")"
   ]
  },
  {
   "cell_type": "code",
   "execution_count": null,
   "metadata": {},
   "outputs": [],
   "source": [
    "# Exercise 3\n",
    "text = \"foo\"\n",
    "pattern = r\"^(f)?(?(1)oo|bar)\"\n",
    "match = re.search(pattern, text)\n",
    "if match:\n",
    "    print(\"Match found!\")\n",
    "else:\n",
    "    print(\"No match.\")"
   ]
  },
  {
   "cell_type": "markdown",
   "metadata": {},
   "source": [
    "## 21. Unicode Matching\n",
    "\n",
    "Unicode matching allows you to match Unicode characters using the `\\u` escape sequence followed by the character's Unicode code point.\n",
    "\n",
    "### Example\n",
    "To match the Unicode character `é`, you would use the pattern `\\u00E9`."
   ]
  },
  {
   "cell_type": "code",
   "execution_count": null,
   "metadata": {},
   "outputs": [],
   "source": [
    "# Example\n",
    "text = \"café\"\n",
    "pattern = r\"caf\\u00E9\"\n",
    "match = re.search(pattern, text)\n",
    "if match:\n",
    "    print(\"Match found!\")\n",
    "else:\n",
    "    print(\"No match.\")"
   ]
  },
  {
   "cell_type": "markdown",
   "metadata": {},
   "source": [
    "### Interactive Exercises\n",
    "\n",
    "1. Match the Unicode character `é` in the text `café`.\n",
    "2. Match the Unicode character `ñ` in the text `piñata`.\n",
    "3. Match the Unicode character `ü` in the text `über`."
   ]
  },
  {
   "cell_type": "code",
   "execution_count": null,
   "metadata": {},
   "outputs": [],
   "source": [
    "# Exercise 1\n",
    "text = \"café\"\n",
    "pattern = r\"\\u00E9\"\n",
    "match = re.search(pattern, text)\n",
    "if match:\n",
    "    print(\"Match found!\")\n",
    "else:\n",
    "    print(\"No match.\")"
   ]
  },
  {
   "cell_type": "code",
   "execution_count": null,
   "metadata": {},
   "outputs": [],
   "source": [
    "# Exercise 2\n",
    "text = \"piñata\"\n",
    "pattern = r\"\\u00F1\"\n",
    "match = re.search(pattern, text)\n",
    "if match:\n",
    "    print(\"Match found!\")\n",
    "else:\n",
    "    print(\"No match.\")"
   ]
  },
  {
   "cell_type": "code",
   "execution_count": null,
   "metadata": {},
   "outputs": [],
   "source": [
    "# Exercise 3\n",
    "text = \"über\"\n",
    "pattern = r\"\\u00FC\"\n",
    "match = re.search(pattern, text)\n",
    "if match:\n",
    "    print(\"Match found!\")\n",
    "else:\n",
    "    print(\"No match.\")"
   ]
  },
  {
   "cell_type": "markdown",
   "metadata": {},
   "source": [
    "## 22. Dotall Mode\n",
    "\n",
    "Dotall mode allows the dot `.` to match all characters, including newline characters. It is enabled using the `re.DOTALL` flag or the inline modifier `(?s)`.\n",
    "\n",
    "### Example\n",
    "To match any character, including newlines, you would use the pattern `(?s).`."
   ]
  },
  {
   "cell_type": "code",
   "execution_count": null,
   "metadata": {},
   "outputs": [],
   "source": [
    "# Example\n",
    "text = \"line1\\nline2\"\n",
    "pattern = r\"(?s).\"\n",
    "matches = re.findall(pattern, text)\n",
    "print(matches)"
   ]
  },
  {
   "cell_type": "markdown",
   "metadata": {},
   "source": [
    "### Interactive Exercises\n",
    "\n",
    "1. Match any character, including newlines, in the text `line1\\nline2`.\n",
    "2. Match any character, including newlines, in the text `abc\\ndef`.\n",
    "3. Match any character, including newlines, in the text `123\\n456`."
   ]
  },
  {
   "cell_type": "code",
   "execution_count": null,
   "metadata": {},
   "outputs": [],
   "source": [
    "# Exercise 1\n",
    "text = \"line1\\nline2\"\n",
    "pattern = r\"(?s).\"\n",
    "matches = re.findall(pattern, text)\n",
    "print(matches)"
   ]
  },
  {
   "cell_type": "code",
   "execution_count": null,
   "metadata": {},
   "outputs": [],
   "source": [
    "# Exercise 2\n",
    "text = \"abc\\ndef\"\n",
    "pattern = r\"(?s).\"\n",
    "matches = re.findall(pattern, text)\n",
    "print(matches)"
   ]
  },
  {
   "cell_type": "code",
   "execution_count": null,
   "metadata": {},
   "outputs": [],
   "source": [
    "# Exercise 3\n",
    "text = \"123\\n456\"\n",
    "pattern = r\"(?s).\"\n",
    "matches = re.findall(pattern, text)\n",
    "print(matches)"
   ]
  },
  {
   "cell_type": "markdown",
   "metadata": {},
   "source": [
    "## 23. Verbose Mode\n",
    "\n",
    "Verbose mode allows you to write regular expressions with whitespace and comments for better readability. It is enabled using the `re.VERBOSE` flag or the inline modifier `(?x)`.\n",
    "\n",
    "### Example\n",
    "To match a date in the format `YYYY-MM-DD` with verbose mode, you would use the pattern `(?x) \\d{4} - \\d{2} - \\d{2}`."
   ]
  },
  {
   "cell_type": "code",
   "execution_count": null,
   "metadata": {},
   "outputs": [],
   "source": [
    "# Example\n",
    "text = \"2024-09-25\"\n",
    "pattern = r\"(?x) \\d{4} - \\d{2} - \\d{2}\"\n",
    "match = re.search(pattern, text)\n",
    "if match:\n",
    "    print(\"Match found!\")\n",
    "else:\n",
    "    print(\"No match.\")"
   ]
  },
  {
   "cell_type": "markdown",
   "metadata": {},
   "source": [
    "### Interactive Exercises\n",
    "\n",
    "1. Match a date in the format `YYYY-MM-DD` with verbose mode in the text `2024-09-25`.\n",
    "2. Match a phone number in the format `(123) 456-7890` with verbose mode in the text `(123) 456-7890`.\n",
    "3. Match an email address with verbose mode in the text `user@example.com`."
   ]
  },
  {
   "cell_type": "code",
   "execution_count": null,
   "metadata": {},
   "outputs": [],
   "source": [
    "# Exercise 1\n",
    "text = \"2024-09-25\"\n",
    "pattern = r\"(?x) \\d{4} - \\d{2} - \\d{2}\"\n",
    "match = re.search(pattern, text)\n",
    "if match:\n",
    "    print(\"Match found!\")\n",
    "else:\n",
    "    print(\"No match.\")"
   ]
  },
  {
   "cell_type": "code",
   "execution_count": null,
   "metadata": {},
   "outputs": [],
   "source": [
    "# Exercise 2\n",
    "text = \"(123) 456-7890\"\n",
    "pattern = r\"(?x) \\( \\d{3} \\) \\s \\d{3} - \\d{4}\"\n",
    "match = re.search(pattern, text)\n",
    "if match:\n",
    "    print(\"Match found!\")\n",
    "else:\n",
    "    print(\"No match.\")"
   ]
  },
  {
   "cell_type": "code",
   "execution_count": null,
   "metadata": {},
   "outputs": [],
   "source": [
    "# Exercise 3\n",
    "text = \"user@example.com\"\n",
    "pattern = r\"(?x) \\b [\\w.%+-]+ @ [\\w.-]+ \\.[a-zA-Z]{2,6} \\b\"\n",
    "match = re.search(pattern, text)\n",
    "if match:\n",
    "    print(\"Match found!\")\n",
    "else:\n",
    "    print(\"No match.\")"
   ]
  },
  {
   "cell_type": "markdown",
   "metadata": {},
   "source": [
    "## 24. Inline Modifiers\n",
    "\n",
    "Inline modifiers allow you to enable or disable flags for part of a regular expression. They are defined using `(?i)`, `(?m)`, `(?s)`, and `(?x)`.\n",
    "\n",
    "### Example\n",
    "To match `hello` case-insensitively, you would use the pattern `(?i)hello`."
   ]
  },
  {
   "cell_type": "code",
   "execution_count": null,
   "metadata": {},
   "outputs": [],
   "source": [
    "# Example\n",
    "text = \"Hello World\"\n",
    "pattern = r\"(?i)hello\"\n",
    "match = re.search(pattern, text)\n",
    "if match:\n",
    "    print(\"Match found!\")\n",
    "else:\n",
    "    print(\"No match.\")"
   ]
  },
  {
   "cell_type": "markdown",
   "metadata": {},
   "source": [
    "### Interactive Exercises\n",
    "\n",
    "1. Match `hello` case-insensitively in the text `Hello World`.\n",
    "2. Match `start` at the beginning of the text `start here` with multi-line matching.\n",
    "3. Match any character, including newlines, in the text `line1\\nline2`."
   ]
  },
  {
   "cell_type": "code",
   "execution_count": null,
   "metadata": {},
   "outputs": [],
   "source": [
    "# Exercise 1\n",
    "text = \"Hello World\"\n",
    "pattern = r\"(?i)hello\"\n",
    "match = re.search(pattern, text)\n",
    "if match:\n",
    "    print(\"Match found!\")\n",
    "else:\n",
    "    print(\"No match.\")"
   ]
  },
  {
   "cell_type": "code",
   "execution_count": null,
   "metadata": {},
   "outputs": [],
   "source": [
    "# Exercise 2\n",
    "text = \"start here\"\n",
    "pattern = r\"(?m)^start\"\n",
    "match = re.search(pattern, text)\n",
    "if match:\n",
    "    print(\"Match found!\")\n",
    "else:\n",
    "    print(\"No match.\")"
   ]
  },
  {
   "cell_type": "code",
   "execution_count": null,
   "metadata": {},
   "outputs": [],
   "source": [
    "# Exercise 3\n",
    "text = \"line1\\nline2\"\n",
    "pattern = r\"(?s).\"\n",
    "matches = re.findall(pattern, text)\n",
    "print(matches)"
   ]
  },
  {
   "cell_type": "markdown",
   "metadata": {},
   "source": [
    "## 25. Substitution\n",
    "\n",
    "Substitution allows you to replace parts of a string that match a pattern. The `re.sub` function is used for this purpose.\n",
    "\n",
    "### Example\n",
    "To replace all digits in a text with `#`, you would use the pattern `\\d`."
   ]
  },
  {
   "cell_type": "code",
   "execution_count": null,
   "metadata": {},
   "outputs": [],
   "source": [
    "# Example\n",
    "text = \"My phone number is 123-456-7890\"\n",
    "pattern = r\"\\d\"\n",
    "replacement = \"#\"\n",
    "result = re.sub(pattern, replacement, text)\n",
    "print(result)"
   ]
  },
  {
   "cell_type": "markdown",
   "metadata": {},
   "source": [
    "### Interactive Exercises\n",
    "\n",
    "1. Replace all digits with `#` in the text `My phone number is 123-456-7890`.\n",
    "2. Replace all whitespace characters with `_` in the text `Hello World`.\n",
    "3. Replace all vowels with `*` in the text `Regular Expressions`."
   ]
  },
  {
   "cell_type": "code",
   "execution_count": null,
   "metadata": {},
   "outputs": [],
   "source": [
    "# Exercise 1\n",
    "text = \"My phone number is 123-456-7890\"\n",
    "pattern = r\"\\d\"\n",
    "replacement = \"#\"\n",
    "result = re.sub(pattern, replacement, text)\n",
    "print(result)"
   ]
  },
  {
   "cell_type": "code",
   "execution_count": null,
   "metadata": {},
   "outputs": [],
   "source": [
    "# Exercise 2\n",
    "text = \"Hello World\"\n",
    "pattern = r\"\\s\"\n",
    "replacement = \"_\"\n",
    "result = re.sub(pattern, replacement, text)\n",
    "print(result)"
   ]
  },
  {
   "cell_type": "code",
   "execution_count": null,
   "metadata": {},
   "outputs": [],
   "source": [
    "# Exercise 3\n",
    "text = \"Regular Expressions\"\n",
    "pattern = r\"[aeiouAEIOU]\"\n",
    "replacement = \"*\"\n",
    "result = re.sub(pattern, replacement, text)\n",
    "print(result)"
   ]
  },
  {
   "cell_type": "markdown",
   "metadata": {},
   "source": [
    "## 26. Splitting Strings\n",
    "\n",
    "The `re.split` function allows you to split a string by a pattern.\n",
    "\n",
    "### Example\n",
    "To split a text by whitespace characters, you would use the pattern `\\s`."
   ]
  },
  {
   "cell_type": "code",
   "execution_count": null,
   "metadata": {},
   "outputs": [],
   "source": [
    "# Example\n",
    "text = \"Split this text by whitespace\"\n",
    "pattern = r\"\\s\"\n",
    "result = re.split(pattern, text)\n",
    "print(result)"
   ]
  },
  {
   "cell_type": "markdown",
   "metadata": {},
   "source": [
    "### Interactive Exercises\n",
    "\n",
    "1. Split the text `Split this text by whitespace` by whitespace characters.\n",
    "2. Split the text `123-456-7890` by hyphens.\n",
    "3. Split the text `apple,orange,banana` by commas."
   ]
  },
  {
   "cell_type": "code",
   "execution_count": null,
   "metadata": {},
   "outputs": [],
   "source": [
    "# Exercise 1\n",
    "text = \"Split this text by whitespace\"\n",
    "pattern = r\"\\s\"\n",
    "result = re.split(pattern, text)\n",
    "print(result)"
   ]
  },
  {
   "cell_type": "code",
   "execution_count": null,
   "metadata": {},
   "outputs": [],
   "source": [
    "# Exercise 2\n",
    "text = \"123-456-7890\"\n",
    "pattern = r\"-\"\n",
    "result = re.split(pattern, text)\n",
    "print(result)"
   ]
  },
  {
   "cell_type": "code",
   "execution_count": null,
   "metadata": {},
   "outputs": [],
   "source": [
    "# Exercise 3\n",
    "text = \"apple,orange,banana\"\n",
    "pattern = r\",\" \n",
    "result = re.split(pattern, text)\n",
    "print(result)"
   ]
  },
  {
   "cell_type": "markdown",
   "metadata": {},
   "source": [
    "## 27. Finding All Matches\n",
    "\n",
    "The `re.findall` function returns all non-overlapping matches of a pattern in a string.\n",
    "\n",
    "### Example\n",
    "To find all digits in a text, you would use the pattern `\\d`."
   ]
  },
  {
   "cell_type": "code",
   "execution_count": null,
   "metadata": {},
   "outputs": [],
   "source": [
    "# Example\n",
    "text = \"There are 2 apples and 3 oranges\"\n",
    "pattern = r\"\\d\"\n",
    "matches = re.findall(pattern, text)\n",
    "print(matches)"
   ]
  },
  {
   "cell_type": "markdown",
   "metadata": {},
   "source": [
    "### Interactive Exercises\n",
    "\n",
    "1. Find all digits in the text `There are 2 apples and 3 oranges`.\n",
    "2. Find all words in the text `Find all words in this text`.\n",
    "3. Find all whitespace characters in the text `Whitespace characters`."
   ]
  },
  {
   "cell_type": "code",
   "execution_count": null,
   "metadata": {},
   "outputs": [],
   "source": [
    "# Exercise 1\n",
    "text = \"There are 2 apples and 3 oranges\"\n",
    "pattern = r\"\\d\"\n",
    "matches = re.findall(pattern, text)\n",
    "print(matches)"
   ]
  },
  {
   "cell_type": "code",
   "execution_count": null,
   "metadata": {},
   "outputs": [],
   "source": [
    "# Exercise 2\n",
    "text = \"Find all words in this text\"\n",
    "pattern = r\"\\w+\"\n",
    "matches = re.findall(pattern, text)\n",
    "print(matches)"
   ]
  },
  {
   "cell_type": "code",
   "execution_count": null,
   "metadata": {},
   "outputs": [],
   "source": [
    "# Exercise 3\n",
    "text = \"Whitespace characters\"\n",
    "pattern = r\"\\s\"\n",
    "matches = re.findall(pattern, text)\n",
    "print(matches)"
   ]
  },
  {
   "cell_type": "markdown",
   "metadata": {},
   "source": [
    "## 28. Compiling Regular Expressions\n",
    "\n",
    "The `re.compile` function allows you to compile a regular expression pattern into a regular expression object, which can be used for matching.\n",
    "\n",
    "### Example\n",
    "To compile a pattern for matching digits, you would use the pattern `\\d`."
   ]
  },
  {
   "cell_type": "code",
   "execution_count": null,
   "metadata": {},
   "outputs": [],
   "source": [
    "# Example\n",
    "text = \"There are 2 apples and 3 oranges\"\n",
    "pattern = re.compile(r\"\\d\")\n",
    "matches = pattern.findall(text)\n",
    "print(matches)"
   ]
  },
  {
   "cell_type": "markdown",
   "metadata": {},
   "source": [
    "### Interactive Exercises\n",
    "\n",
    "1. Compile a pattern for matching digits and find all digits in the text `There are 2 apples and 3 oranges`.\n",
    "2. Compile a pattern for matching words and find all words in the text `Find all words in this text`.\n",
    "3. Compile a pattern for matching whitespace characters and find all whitespace characters in the text `Whitespace characters`."
   ]
  },
  {
   "cell_type": "code",
   "execution_count": null,
   "metadata": {},
   "outputs": [],
   "source": [
    "# Exercise 1\n",
    "text = \"There are 2 apples and 3 oranges\"\n",
    "pattern = re.compile(r\"\\d\")\n",
    "matches = pattern.findall(text)\n",
    "print(matches)"
   ]
  },
  {
   "cell_type": "code",
   "execution_count": null,
   "metadata": {},
   "outputs": [],
   "source": [
    "# Exercise 2\n",
    "text = \"Find all words in this text\"\n",
    "pattern = re.compile(r\"\\w+\")\n",
    "matches = pattern.findall(text)\n",
    "print(matches)"
   ]
  },
  {
   "cell_type": "code",
   "execution_count": null,
   "metadata": {},
   "outputs": [],
   "source": [
    "# Exercise 3\n",
    "text = \"Whitespace characters\"\n",
    "pattern = re.compile(r\"\\s\")\n",
    "matches = pattern.findall(text)\n",
    "print(matches)"
   ]
  },
  {
   "cell_type": "markdown",
   "metadata": {},
   "source": [
    "## 29. Performance Considerations\n",
    "\n",
    "Regular expressions can be computationally expensive, especially with complex patterns and large input strings. Here are some tips for improving performance:\n",
    "\n",
    "- Use raw strings (`r\"pattern\"`) to avoid unnecessary escaping.\n",
    "- Compile regular expressions using `re.compile`.\n",
    "- Avoid backtracking by using non-capturing groups and atomic groups.\n",
    "- Use specific character classes instead of `.` when possible.\n",
    "- Test and optimize your regular expressions using tools like regex101 or regexr."
   ]
  },
  {
   "cell_type": "markdown",
   "metadata": {},
   "source": [
    "### Interactive Exercises\n",
    "\n",
    "1. Compile a pattern for matching digits and find all digits in the text `There are 2 apples and 3 oranges`.\n",
    "2. Use a specific character class to match vowels in the text `Regular Expressions`.\n",
    "3. Optimize the pattern `.*` to match any character except newline in the text `Hello World`."
   ]
  },
  {
   "cell_type": "code",
   "execution_count": null,
   "metadata": {},
   "outputs": [],
   "source": [
    "# Exercise 1\n",
    "text = \"There are 2 apples and 3 oranges\"\n",
    "pattern = re.compile(r\"\\d\")\n",
    "matches = pattern.findall(text)\n",
    "print(matches)"
   ]
  },
  {
   "cell_type": "code",
   "execution_count": null,
   "metadata": {},
   "outputs": [],
   "source": [
    "# Exercise 2\n",
    "text = \"Regular Expressions\"\n",
    "pattern = re.compile(r\"[aeiouAEIOU]\")\n",
    "matches = pattern.findall(text)\n",
    "print(matches)"
   ]
  },
  {
   "cell_type": "code",
   "execution_count": null,
   "metadata": {},
   "outputs": [],
   "source": [
    "# Exercise 3\n",
    "text = \"Hello World\"\n",
    "pattern = re.compile(r\"[^\n]*\")\n",
    "matches = pattern.findall(text)\n",
    "print(matches)"
   ]
  },
  {
   "cell_type": "markdown",
   "metadata": {},
   "source": [
    "## 30. Common Pitfalls\n",
    "\n",
    "Here are some common pitfalls to avoid when working with regular expressions:\n",
    "\n",
    "- Forgetting to escape special characters.\n",
    "- Using greedy quantifiers when non-greedy ones are needed.\n",
    "- Not using raw strings for regular expressions.\n",
    "- Overusing backreferences, which can lead to performance issues.\n",
    "- Not testing regular expressions with various input cases."
   ]
  },
  {
   "cell_type": "markdown",
   "metadata": {},
   "source": [
    "### Interactive Exercises\n",
    "\n",
    "1. Correct the pattern to match the string `a+b` literally in the text `a+b`.\n",
    "2. Use a non-greedy quantifier to match the smallest string between `<` and `>` in the text `<div>content</div>`.\n",
    "3. Use a raw string to match the pattern `\\d+` in the text `123`."
   ]
  },
  {
   "cell_type": "code",
   "execution_count": null,
   "metadata": {},
   "outputs": [],
   "source": [
    "# Exercise 1\n",
    "text = \"a+b\"\n",
    "pattern = r\"a\\+b\"\n",
    "match = re.search(pattern, text)\n",
    "if match:\n",
    "    print(\"Match found!\")\n",
    "else:\n",
    "    print(\"No match.\")"
   ]
  },
  {
   "cell_type": "code",
   "execution_count": null,
   "metadata": {},
   "outputs": [],
   "source": [
    "# Exercise 2\n",
    "text = \"<div>content</div>\"\n",
    "pattern = r\"<.*?>\"\n",
    "matches = re.findall(pattern, text)\n",
    "print(matches)"
   ]
  },
  {
   "cell_type": "code",
   "execution_count": null,
   "metadata": {},
   "outputs": [],
   "source": [
    "# Exercise 3\n",
    "text = \"123\"\n",
    "pattern = r\"\\d+\"\n",
    "match = re.search(pattern, text)\n",
    "if match:\n",
    "    print(\"Match found!\")\n",
    "else:\n",
    "    print(\"No match.\")"
   ]
  },
  {
   "cell_type": "markdown",
   "metadata": {},
   "source": [
    "## 31. Practical Examples\n",
    "\n",
    "Let's look at some practical examples of regular expressions in real-world scenarios.\n",
    "\n",
    "### Example 1: Email Validation\n",
    "To validate an email address, you can use the pattern `^[\\w.%+-]+@[\\w.-]+\\.[a-zA-Z]{2,6}$`."
   ]
  },
  {
   "cell_type": "code",
   "execution_count": null,
   "metadata": {},
   "outputs": [],
   "source": [
    "# Example 1\n",
    "text = \"user@example.com\"\n",
    "pattern = r\"^[\\w.%+-]+@[\\w.-]+\\.[a-zA-Z]{2,6}$\"\n",
    "match = re.match(pattern, text)\n",
    "if match:\n",
    "    print(\"Valid email address.\")\n",
    "else:\n",
    "    print(\"Invalid email address.\")"
   ]
  },
  {
   "cell_type": "markdown",
   "metadata": {},
   "source": [
    "### Example 2: Phone Number Extraction\n",
    "To extract phone numbers from a text, you can use the pattern `\\(\\d{3}\\) \\d{3}-\\d{4}`."
   ]
  },
  {
   "cell_type": "code",
   "execution_count": null,
   "metadata": {},
   "outputs": [],
   "source": [
    "# Example 2\n",
    "text = \"Contact: (123) 456-7890 or (987) 654-3210\"\n",
    "pattern = r\"\\(\\d{3}\\) \\d{3}-\\d{4}\"\n",
    "matches = re.findall(pattern, text)\n",
    "print(matches)"
   ]
  },
  {
   "cell_type": "markdown",
   "metadata": {},
   "source": [
    "### Example 3: URL Extraction\n",
    "To extract URLs from a text, you can use the pattern `https?://[\\w.-]+`."
   ]
  },
  {
   "cell_type": "code",
   "execution_count": null,
   "metadata": {},
   "outputs": [],
   "source": [
    "# Example 3\n",
    "text = \"Visit https://example.com or http://test.com\"\n",
    "pattern = r\"https?://[\\w.-]+\"\n",
    "matches = re.findall(pattern, text)\n",
    "print(matches)"
   ]
  },
  {
   "cell_type": "markdown",
   "metadata": {},
   "source": [
    "### Interactive Exercises\n",
    "\n",
    "1. Validate the email address `test@example.com`.\n",
    "2. Extract phone numbers from the text `Call me at (555) 123-4567 or (555) 765-4321`.\n",
    "3. Extract URLs from the text `Check out https://example.com and http://example.org`."
   ]
  },
  {
   "cell_type": "code",
   "execution_count": null,
   "metadata": {},
   "outputs": [],
   "source": [
    "# Exercise 1\n",
    "text = \"test@example.com\"\n",
    "pattern = r\"^[\\w.%+-]+@[\\w.-]+\\.[a-zA-Z]{2,6}$\"\n",
    "match = re.match(pattern, text)\n",
    "if match:\n",
    "    print(\"Valid email address.\")\n",
    "else:\n",
    "    print(\"Invalid email address.\")"
   ]
  },
  {
   "cell_type": "code",
   "execution_count": null,
   "metadata": {},
   "outputs": [],
   "source": [
    "# Exercise 2\n",
    "text = \"Call me at (555) 123-4567 or (555) 765-4321\"\n",
    "pattern = r\"\\(\\d{3}\\) \\d{3}-\\d{4}\"\n",
    "matches = re.findall(pattern, text)\n",
    "print(matches)"
   ]
  },
  {
   "cell_type": "code",
   "execution_count": null,
   "metadata": {},
   "outputs": [],
   "source": [
    "# Exercise 3\n",
    "text = \"Check out https://example.com and http://example.org\"\n",
    "pattern = r\"https?://[\\w.-]+\"\n",
    "matches = re.findall(pattern, text)\n",
    "print(matches)"
   ]
  },
  {
   "cell_type": "markdown",
   "metadata": {},
   "source": [
    "## 32. Regular Expressions in Python\n",
    "\n",
    "Python's `re` module provides support for regular expressions. Here are some commonly used functions:\n",
    "\n",
    "- `re.search(pattern, string, flags=0)`: Searches for the pattern in the string.\n",
    "- `re.match(pattern, string, flags=0)`: Matches the pattern at the beginning of the string.\n",
    "- `re.findall(pattern, string, flags=0)`: Finds all non-overlapping matches of the pattern in the string.\n",
    "- `re.sub(pattern, repl, string, count=0, flags=0)`: Replaces occurrences of the pattern with `repl` in the string.\n",
    "- `re.split(pattern, string, maxsplit=0, flags=0)`: Splits the string by occurrences of the pattern.\n",
    "- `re.compile(pattern, flags=0)`: Compiles a regular expression pattern into a regular expression object.\n",
    "\n",
    "### Example\n",
    "To find all words in a text, you can use the `re.findall` function with the pattern `\\w+`."
   ]
  },
  {
   "cell_type": "code",
   "execution_count": null,
   "metadata": {},
   "outputs": [],
   "source": [
    "# Example\n",
    "import re\n",
    "text = \"Find all words in this text\"\n",
    "pattern = r\"\\w+\"\n",
    "matches = re.findall(pattern, text)\n",
    "print(matches)"
   ]
  },
  {
   "cell_type": "markdown",
   "metadata": {},
   "source": [
    "### Interactive Exercises\n",
    "\n",
    "1. Use `re.search` to find the first occurrence of `Python` in the text `I love Python programming`.\n",
    "2. Use `re.match` to check if the text `Hello World` starts with `Hello`.\n",
    "3. Use `re.sub` to replace all digits with `#` in the text `My phone number is 123-456-7890`."
   ]
  },
  {
   "cell_type": "code",
   "execution_count": null,
   "metadata": {},
   "outputs": [],
   "source": [
    "# Exercise 1\n",
    "text = \"I love Python programming\"\n",
    "pattern = r\"Python\"\n",
    "match = re.search(pattern, text)\n",
    "if match:\n",
    "    print(\"Match found!\")\n",
    "else:\n",
    "    print(\"No match.\")"
   ]
  },
  {
   "cell_type": "code",
   "execution_count": null,
   "metadata": {},
   "outputs": [],
   "source": [
    "# Exercise 2\n",
    "text = \"Hello World\"\n",
    "pattern = r\"Hello\"\n",
    "match = re.match(pattern, text)\n",
    "if match:\n",
    "    print(\"Match found!\")\n",
    "else:\n",
    "    print(\"No match.\")"
   ]
  },
  {
   "cell_type": "code",
   "execution_count": null,
   "metadata": {},
   "outputs": [],
   "source": [
    "# Exercise 3\n",
    "text = \"My phone number is 123-456-7890\"\n",
    "pattern = r\"\\d\"\n",
    "replacement = \"#\"\n",
    "result = re.sub(pattern, replacement, text)\n",
    "print(result)"
   ]
  },
  {
   "cell_type": "markdown",
   "metadata": {},
   "source": [
    "## 33. Regular Expressions in JavaScript\n",
    "\n",
    "JavaScript provides support for regular expressions through the `RegExp` object and methods of the `String` object:\n",
    "\n",
    "- `RegExp(pattern, flags)`: Creates a regular expression object.\n",
    "- `string.match(pattern)`: Matches a string against a pattern.\n",
    "- `string.search(pattern)`: Searches for a pattern in a string.\n",
    "- `string.replace(pattern, replacement)`: Replaces occurrences of a pattern with `replacement` in a string.\n",
    "- `string.split(pattern)`: Splits a string by occurrences of a pattern.\n",
    "\n",
    "### Example\n",
    "To find all words in a text, you can use the `match` method with the pattern `/\\w+/g`."
   ]
  },
  {
   "cell_type": "code",
   "execution_count": null,
   "metadata": {},
   "outputs": [],
   "source": [
    "# Example (JavaScript)\n",
    "text = \"Find all words in this text\";\n",
    "pattern = /\\w+/g;\n",
    "matches = text.match(pattern);\n",
    "console.log(matches);"
   ]
  },
  {
   "cell_type": "markdown",
   "metadata": {},
   "source": [
    "### Interactive Exercises\n",
    "\n",
    "1. Use `search` to find the first occurrence of `JavaScript` in the text `I love JavaScript programming`.\n",
    "2. Use `match` to find all digits in the text `My phone number is 123-456-7890`.\n",
    "3. Use `replace` to replace all whitespace characters with `_` in the text `Hello World`."
   ]
  },
  {
   "cell_type": "code",
   "execution_count": null,
   "metadata": {},
   "outputs": [],
   "source": [
    "# Exercise 1 (JavaScript)\n",
    "text = \"I love JavaScript programming\";\n",
    "pattern = /JavaScript/;\n",
    "index = text.search(pattern);\n",
    "console.log(index !== -1 ? \"Match found!\" : \"No match.\");"
   ]
  },
  {
   "cell_type": "code",
   "execution_count": null,
   "metadata": {},
   "outputs": [],
   "source": [
    "# Exercise 2 (JavaScript)\n",
    "text = \"My phone number is 123-456-7890\";\n",
    "pattern = /\\d+/g;\n",
    "matches = text.match(pattern);\n",
    "console.log(matches);"
   ]
  },
  {
   "cell_type": "code",
   "execution_count": null,
   "metadata": {},
   "outputs": [],
   "source": [
    "# Exercise 3 (JavaScript)\n",
    "text = \"Hello World\";\n",
    "pattern = /\\s/g;\n",
    "result = text.replace(pattern, \"_\");\n",
    "console.log(result);"
   ]
  },
  {
   "cell_type": "markdown",
   "metadata": {},
   "source": [
    "## 34. Regular Expressions in Java\n",
    "\n",
    "Java provides support for regular expressions through the `java.util.regex` package:\n",
    "\n",
    "- `Pattern.compile(pattern)`: Compiles a regular expression pattern.\n",
    "- `Matcher matcher = pattern.matcher(input)`: Creates a matcher for the input string.\n",
    "- `matcher.find()`: Finds the next match.\n",
    "- `matcher.group()`: Returns the matched subsequence.\n",
    "- `input.replaceAll(pattern, replacement)`: Replaces all occurrences of the pattern with `replacement`.\n",
    "\n",
    "### Example\n",
    "To find all words in a text, you can use the `Pattern` and `Matcher` classes with the pattern `\\w+`."
   ]
  },
  {
   "cell_type": "code",
   "execution_count": null,
   "metadata": {},
   "outputs": [],
   "source": [
    "# Example (Java)\n",
    "import java.util.regex.*;\n",
    "String text = \"Find all words in this text\";\n",
    "Pattern pattern = Pattern.compile(\"\\\\w+\");\n",
    "Matcher matcher = pattern.matcher(text);\n",
    "while (matcher.find()) {\n",
    "    System.out.println(matcher.group());\n",
    "}"
   ]
  },
  {
   "cell_type": "markdown",
   "metadata": {},
   "source": [
    "### Interactive Exercises\n",
    "\n",
    "1. Use `Pattern` and `Matcher` to find the first occurrence of `Java` in the text `I love Java programming`.\n",
    "2. Use `Pattern` and `Matcher` to find all digits in the text `My phone number is 123-456-7890`.\n",
    "3. Use `replaceAll` to replace all whitespace characters with `_` in the text `Hello World`."
   ]
  },
  {
   "cell_type": "code",
   "execution_count": null,
   "metadata": {},
   "outputs": [],
   "source": [
    "# Exercise 1 (Java)\n",
    "import java.util.regex.*;\n",
    "String text = \"I love Java programming\";\n",
    "Pattern pattern = Pattern.compile(\"Java\");\n",
    "Matcher matcher = pattern.matcher(text);\n",
    "if (matcher.find()) {\n",
    "    System.out.println(\"Match found!\");\n",
    "} else {\n",
    "    System.out.println(\"No match.\");\n",
    "}"
   ]
  },
  {
   "cell_type": "code",
   "execution_count": null,
   "metadata": {},
   "outputs": [],
   "source": [
    "# Exercise 2 (Java)\n",
    "import java.util.regex.*;\n",
    "String text = \"My phone number is 123-456-7890\";\n",
    "Pattern pattern = Pattern.compile(\"\\\\d+\");\n",
    "Matcher matcher = pattern.matcher(text);\n",
    "while (matcher.find()) {\n",
    "    System.out.println(matcher.group());\n",
    "}"
   ]
  },
  {
   "cell_type": "code",
   "execution_count": null,
   "metadata": {},
   "outputs": [],
   "source": [
    "# Exercise 3 (Java)\n",
    "String text = \"Hello World\";\n",
    "String result = text.replaceAll(\"\\\\s\", \"_\");\n",
    "System.out.println(result);"
   ]
  },
  {
   "cell_type": "markdown",
   "metadata": {},
   "source": [
    "## 35. Regular Expressions in PHP\n",
    "\n",
    "PHP provides support for regular expressions through the `preg_` functions:\n",
    "\n",
    "- `preg_match(pattern, subject)`: Searches for the pattern in the subject.\n",
    "- `preg_match_all(pattern, subject)`: Finds all matches of the pattern in the subject.\n",
    "- `preg_replace(pattern, replacement, subject)`: Replaces occurrences of the pattern with `replacement` in the subject.\n",
    "- `preg_split(pattern, subject)`: Splits the subject by occurrences of the pattern.\n",
    "\n",
    "### Example\n",
    "To find all words in a text, you can use the `preg_match_all` function with the pattern `/\\w+/`."
   ]
  },
  {
   "cell_type": "code",
   "execution_count": null,
   "metadata": {},
   "outputs": [],
   "source": [
    "# Example (PHP)\n",
    "$text = \"Find all words in this text\";\n",
    "$pattern = \"/\\\\w+/\";\n",
    "preg_match_all($pattern, $text, $matches);\n",
    "print_r($matches[0]);"
   ]
  },
  {
   "cell_type": "markdown",
   "metadata": {},
   "source": [
    "### Interactive Exercises\n",
    "\n",
    "1. Use `preg_match` to find the first occurrence of `PHP` in the text `I love PHP programming`.\n",
    "2. Use `preg_match_all` to find all digits in the text `My phone number is 123-456-7890`.\n",
    "3. Use `preg_replace` to replace all whitespace characters with `_` in the text `Hello World`."
   ]
  },
  {
   "cell_type": "code",
   "execution_count": null,
   "metadata": {},
   "outputs": [],
   "source": [
    "# Exercise 1 (PHP)\n",
    "$text = \"I love PHP programming\";\n",
    "$pattern = \"/PHP/\";\n",
    "if (preg_match($pattern, $text)) {\n",
    "    echo \"Match found!\";\n",
    "} else {\n",
    "    echo \"No match.\";\n",
    "}"
   ]
  },
  {
   "cell_type": "code",
   "execution_count": null,
   "metadata": {},
   "outputs": [],
   "source": [
    "# Exercise 2 (PHP)\n",
    "$text = \"My phone number is 123-456-7890\";\n",
    "$pattern = \"/\\\\d+/\";\n",
    "preg_match_all($pattern, $text, $matches);\n",
    "print_r($matches[0]);"
   ]
  },
  {
   "cell_type": "code",
   "execution_count": null,
   "metadata": {},
   "outputs": [],
   "source": [
    "# Exercise 3 (PHP)\n",
    "$text = \"Hello World\";\n",
    "$pattern = \"/\\\\s/\";\n",
    "$replacement = \"_\";\n",
    "$result = preg_replace($pattern, $replacement, $text);\n",
    "echo $result;"
   ]
  },
  {
   "cell_type": "markdown",
   "metadata": {},
   "source": [
    "## 36. Regular Expressions in Ruby\n",
    "\n",
    "Ruby provides support for regular expressions through the `Regexp` class and methods of the `String` class:\n",
    "\n",
    "- `Regexp.new(pattern)`: Creates a regular expression object.\n",
    "- `string.match(pattern)`: Matches a string against a pattern.\n",
    "- `string.scan(pattern)`: Finds all non-overlapping matches of the pattern in the string.\n",
    "- `string.gsub(pattern, replacement)`: Replaces occurrences of the pattern with `replacement` in the string.\n",
    "- `string.split(pattern)`: Splits the string by occurrences of the pattern.\n",
    "\n",
    "### Example\n",
    "To find all words in a text, you can use the `scan` method with the pattern `/\\w+/`."
   ]
  },
  {
   "cell_type": "code",
   "execution_count": null,
   "metadata": {},
   "outputs": [],
   "source": [
    "# Example (Ruby)\n",
    "text = \"Find all words in this text\"\n",
    "pattern = /\\w+/ \n",
    "matches = text.scan(pattern)\n",
    "puts matches"
   ]
  },
  {
   "cell_type": "markdown",
   "metadata": {},
   "source": [
    "### Interactive Exercises\n",
    "\n",
    "1. Use `match` to find the first occurrence of `Ruby` in the text `I love Ruby programming`.\n",
    "2. Use `scan` to find all digits in the text `My phone number is 123-456-7890`.\n",
    "3. Use `gsub` to replace all whitespace characters with `_` in the text `Hello World`."
   ]
  },
  {
   "cell_type": "code",
   "execution_count": null,
   "metadata": {},
   "outputs": [],
   "source": [
    "# Exercise 1 (Ruby)\n",
    "text = \"I love Ruby programming\"\n",
    "pattern = /Ruby/\n",
    "match = text.match(pattern)\n",
    "puts match ? \"Match found!\" : \"No match.\""
   ]
  },
  {
   "cell_type": "code",
   "execution_count": null,
   "metadata": {},
   "outputs": [],
   "source": [
    "# Exercise 2 (Ruby)\n",
    "text = \"My phone number is 123-456-7890\"\n",
    "pattern = /\\d+/\n",
    "matches = text.scan(pattern)\n",
    "puts matches"
   ]
  },
  {
   "cell_type": "code",
   "execution_count": null,
   "metadata": {},
   "outputs": [],
   "source": [
    "# Exercise 3 (Ruby)\n",
    "text = \"Hello World\"\n",
    "pattern = /\\s/\n",
    "replacement = \"_\"\n",
    "result = text.gsub(pattern, replacement)\n",
    "puts result"
   ]
  },
  {
   "cell_type": "markdown",
   "metadata": {},
   "source": [
    "## 37. Regular Expressions in Perl\n",
    "\n",
    "Perl provides built-in support for regular expressions using the `=~` and `!~` operators:\n",
    "\n",
    "- `=~`: Matches a string against a pattern.\n",
    "- `!~`: Checks if a string does not match a pattern.\n",
    "- `s/pattern/replacement/`: Replaces occurrences of the pattern with `replacement`.\n",
    "- `split(pattern, string)`: Splits the string by occurrences of the pattern.\n",
    "\n",
    "### Example\n",
    "To find all words in a text, you can use the pattern `\\w+` with the `=~` operator."
   ]
  },
  {
   "cell_type": "code",
   "execution_count": null,
   "metadata": {},
   "outputs": [],
   "source": [
    "# Example (Perl)\n",
    "my $text = \"Find all words in this text\";\n",
    "my @matches = ($text =~ /\\w+/g);\n",
    "print \"@matches\\n\";"
   ]
  },
  {
   "cell_type": "markdown",
   "metadata": {},
   "source": [
    "### Interactive Exercises\n",
    "\n",
    "1. Use `=~` to find the first occurrence of `Perl` in the text `I love Perl programming`.\n",
    "2. Use `=~` to find all digits in the text `My phone number is 123-456-7890`.\n",
    "3. Use `s///` to replace all whitespace characters with `_` in the text `Hello World`."
   ]
  },
  {
   "cell_type": "code",
   "execution_count": null,
   "metadata": {},
   "outputs": [],
   "source": [
    "# Exercise 1 (Perl)\n",
    "my $text = \"I love Perl programming\";\n",
    "if ($text =~ /Perl/) {\n",
    "    print \"Match found!\\n\";\n",
    "} else {\n",
    "    print \"No match.\\n\";\n",
    "}"
   ]
  },
  {
   "cell_type": "code",
   "execution_count": null,
   "metadata": {},
   "outputs": [],
   "source": [
    "# Exercise 2 (Perl)\n",
    "my $text = \"My phone number is 123-456-7890\";\n",
    "my @matches = ($text =~ /\\d+/g);\n",
    "print \"@matches\\n\";"
   ]
  },
  {
   "cell_type": "code",
   "execution_count": null,
   "metadata": {},
   "outputs": [],
   "source": [
    "# Exercise 3 (Perl)\n",
    "my $text = \"Hello World\";\n",
    "$text =~ s/\\s/_/g;\n",
    "print \"$text\\n\";"
   ]
  },
  {
   "cell_type": "markdown",
   "metadata": {},
   "source": [
    "## 38. Regular Expressions in Shell Scripts\n",
    "\n",
    "Shell scripts, such as those written in Bash, provide support for regular expressions using the `grep`, `sed`, and `awk` commands:\n",
    "\n",
    "- `grep 'pattern' file`: Searches for the pattern in the file.\n",
    "- `sed 's/pattern/replacement/' file`: Replaces occurrences of the pattern with `replacement` in the file.\n",
    "- `awk '/pattern/ {print}' file`: Prints lines matching the pattern in the file.\n",
    "\n",
    "### Example\n",
    "To find all lines containing the word `error` in a log file, you can use the `grep` command with the pattern `error`."
   ]
  },
  {
   "cell_type": "code",
   "execution_count": null,
   "metadata": {},
   "outputs": [],
   "source": [
    "# Example (Shell Script)\n",
    "# grep 'error' logfile.log"
   ]
  },
  {
   "cell_type": "markdown",
   "metadata": {},
   "source": [
    "### Interactive Exercises\n",
    "\n",
    "1. Use `grep` to find all lines containing the word `warning` in a file `logfile.log`.\n",
    "2. Use `sed` to replace all occurrences of `foo` with `bar` in a file `input.txt`.\n",
    "3. Use `awk` to print lines containing the word `success` in a file `results.txt`."
   ]
  },
  {
   "cell_type": "code",
   "execution_count": null,
   "metadata": {},
   "outputs": [],
   "source": [
    "# Exercise 1 (Shell Script)\n",
    "# grep 'warning' logfile.log"
   ]
  },
  {
   "cell_type": "code",
   "execution_count": null,
   "metadata": {},
   "outputs": [],
   "source": [
    "# Exercise 2 (Shell Script)\n",
    "# sed 's/foo/bar/g' input.txt"
   ]
  },
  {
   "cell_type": "code",
   "execution_count": null,
   "metadata": {},
   "outputs": [],
   "source": [
    "# Exercise 3 (Shell Script)\n",
    "# awk '/success/ {print}' results.txt"
   ]
  },
  {
   "cell_type": "markdown",
   "metadata": {},
   "source": [
    "## 39. Testing and Debugging Regular Expressions\n",
    "\n",
    "Testing and debugging regular expressions can be challenging. Here are some tools and techniques to help you:\n",
    "\n",
    "- **Online Tools**: Websites like [regex101](https://regex101.com/) and [regexr](https://regexr.com/) provide interactive environments for testing and debugging regular expressions.\n",
    "- **Unit Tests**: Write unit tests to verify that your regular expressions work as expected with various input cases.\n",
    "- **Verbose Mode**: Use verbose mode (if supported) to add comments and whitespace to your regular expressions for better readability.\n",
    "- **Step-by-Step Analysis**: Break down complex regular expressions into smaller parts and test each part individually.\n",
    "\n",
    "### Example\n",
    "To test a regular expression for matching email addresses, you can use regex101 to see the matches and explanations."
   ]
  },
  {
   "cell_type": "markdown",
   "metadata": {},
   "source": [
    "### Interactive Exercises\n",
    "\n",
    "1. Test the pattern `^[\\w.%+-]+@[\\w.-]+\\.[a-zA-Z]{2,6}$` for matching email addresses using regex101.\n",
    "2. Write a unit test to verify that the pattern `\\d+` matches all digits in the text `12345`.\n",
    "3. Use verbose mode to add comments and whitespace to the pattern `\\d{4}-\\d{2}-\\d{2}` for matching dates."
   ]
  },
  {
   "cell_type": "markdown",
   "metadata": {},
   "source": [
    "## 40. Resources and Further Reading\n",
    "\n",
    "Here are some resources and further reading materials to help you master regular expressions:\n",
    "\n",
    "- **Books**:\n",
    "  - \"Mastering Regular Expressions\" by Jeffrey E.F. Friedl\n",
    "  - \"Regular Expressions Cookbook\" by Jan Goyvaerts and Steven Levithan\n",
    "- **Online Tutorials**:\n",
    "  - [RegexOne](https://regexone.com/): Interactive tutorial for learning regular expressions.\n",
    "  - [Regular-Expressions.info](https://www.regular-expressions.info/): Comprehensive resource on regular expressions.\n",
    "- **Cheat Sheets**:\n",
    "  - [Regex Cheat Sheet](https://www.rexegg.com/regex-quickstart.html): Quick reference for regular expression syntax and patterns.\n",
    "- **Tools**:\n",
    "  - [regex101](https://regex101.com/): Online tool for testing and debugging regular expressions.\n",
    "  - [regexr](https://regexr.com/): Interactive tool for learning, testing, and debugging regular expressions.\n",
    "\n",
    "### Conclusion\n",
    "Regular expressions are a powerful tool for text processing and pattern matching. By understanding the syntax and common patterns, you can leverage regular expressions to solve a wide range of problems in various programming languages. Practice regularly and refer to the resources listed above to continue improving your skills."
   ]
  }
 ],
 "metadata": {
  "kernelspec": {
   "display_name": "Python 3",
   "language": "python",
   "name": "python3"
  },
  "language_info": {
   "codemirror_mode": {
    "name": "ipython",
    "version": 3
   },
   "file_extension": ".py",
   "mimetype": "text/x-python",
   "name": "python",
   "nbconvert_exporter": "python",
   "pygments_lexer": "ipython3",
   "version": "3.8.5"
  }
 },
 "nbformat": 4,
 "nbformat_minor": 4
}