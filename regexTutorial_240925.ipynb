{
 "cells": [
  {
   "cell_type": "markdown",
   "metadata": {},
   "source": [
    "# Regular Expressions Tutorial\n",
    "\n",
    "This tutorial covers regex from beginner to advanced topics. Every section provides explanations, examples, and interactive exercises.\n",
    "\n",
    "### Table of Contents\n",
    "1. Introduction to Regex\n",
    "2. Meta-characters: `.`\n",
    "3. Character Classes: `[]`\n",
    "4. Negated Character Classes: `[^]`\n",
    "5. Predefined Character Classes: `\\d`, `\\D`, `\\w`, `\\W`\n",
    "6. Quantifiers: `*`, `+`, `?`, `{}`\n",
    "7. Anchors: `^` and `$`\n",
    "8. Escape Sequences: `\\`\n",
    "9. Alternation: `|`\n",
    "10. Grouping and Capturing: `()`\n",
    "11. Non-Capturing Groups: `(?:)`\n",
    "12. Lookahead Assertions: `(?=)`\n",
    "13. Negative Lookahead: `(?! )`\n",
    "14. Lookbehind Assertions: `(?<=)`\n",
    "15. Negative Lookbehind: `(?<! )`\n",
    "16. Greedy vs Lazy Matching\n",
    "17. Word Boundaries: `\\b`\n",
    "18. Global vs Case-Insensitive Matching: `g`, `i` flags\n",
    "19. Unicode Support\n",
    "20. Regex Substitution (Replace)\n",
    "21. Extracting Substrings with Regex\n",
    "22. Multi-line Mode: `m`\n",
    "23. Dotall Mode: `s`\n",
    "24. Anchors in Multi-line Mode\n",
    "25. Backreferences in Regex\n",
    "26. Named Capture Groups\n",
    "27. Recursive Patterns\n",
    "28. Regex and HTML Parsing (Why Regex is NOT for HTML)\n",
    "29. Common Regex Patterns\n",
    "30. Email Validation with Regex\n",
    "31. URL Parsing with Regex\n",
    "32. Phone Number Matching\n",
    "33. Working with Dates\n",
    "34. Password Validation\n",
    "35. Removing HTML Tags\n",
    "36. Splitting Strings with Regex\n",
    "37. Case Studies: Logs Parsing\n",
    "38. Performance Optimization\n",
    "39. Debugging Regex Patterns\n",
    "40. Conclusion and Next Steps"
   ]
  },
  {
   "cell_type": "markdown",
   "metadata": {},
   "source": [
    "## Section 1: Introduction to Regex\n",
    "\n",
    "### What is Regex?\n",
    "Regex (Regular Expressions) is a sequence of characters that defines a search pattern. It can be used for tasks such as searching, replacing, and extracting data from strings.\n",
    "\n",
    "### Example\n",
    "To find digits in a string, you can use the pattern `\\d+`.\n",
    "\n",
    "### Interactive Exercise 1\n",
    "Let’s search for digits in a string."
   ]
  },
  {
   "cell_type": "code",
   "metadata": {},
   "source": [
    "# Import regex library\n",
    "import re\n",
    "\n",
    "# Input string\n",
    "text = \"My phone number is 12345 and my postal code is 54321\"\n",
    "\n",
    "# User input for regex pattern\n",
    "pattern = input(\"Enter a regex pattern to search for digits in the string: \")\n",
    "\n",
    "# Search for pattern in text\n",
    "matches = re.findall(pattern, text)\n",
    "\n",
    "# Displaying the results\n",
    "if matches:\n",
    "    print(f\"Matches found: {matches}\")\n",
    "else:\n",
    "    print(\"No matches found.\")"
   ],
   "outputs": [],
   "execution_count": null
  },
  {
   "cell_type": "markdown",
   "metadata": {},
   "source": [
    "## Section 2: Meta-characters: `.`\n",
    "\n",
    "The dot (`.`) is a special character in regex that matches any single character except newline (`\\n`).\n",
    "\n",
    "### Example:\n",
    "If you want to match any character between two letters, you can use `.`.\n",
    "\n",
    "### Interactive Exercise 2\n",
    "Search for any character that appears between two letters."
   ]
  },
  {
   "cell_type": "code",
   "metadata": {},
   "source": [
    "# Input string\n",
    "text = \"a_b a-b a*b a%b\"\n",
    "\n",
    "# User input for regex pattern\n",
    "pattern = input(\"Enter a regex pattern using the dot character to match between letters: \")\n",
    "\n",
    "# Search for pattern in text\n",
    "matches = re.findall(pattern, text)\n",
    "\n",
    "# Displaying the results\n",
    "if matches:\n",
    "    print(f\"Matches found: {matches}\")\n",
    "else:\n",
    "    print(\"No matches found.\")"
   ],
   "outputs": [],
   "execution_count": null
  },
  {
   "cell_type": "markdown",
   "metadata": {},
   "source": [
    "## Section 3: Character Classes: `[]`\n",
    "\n",
    "Character classes allow you to define a set of characters to match. For example, `[abc]` will match any of the characters `a`, `b`, or `c`.\n",
    "\n",
    "### Example\n",
    "To match any vowel in a string, you can use the character class `[aeiou]`.\n",
    "\n",
    "### Interactive Exercise 3\n",
    "Search for vowels in the following text."
   ]
  },
  {
   "cell_type": "code",
   "metadata": {},
   "source": [
    "# Input string\n",
    "text = \"The quick brown fox jumps over the lazy dog\"\n",
    "\n",
    "# User input for regex pattern\n",
    "pattern = input(\"Enter a regex pattern to search for vowels: \")\n",
    "\n",
    "# Search for pattern in text\n",
    "matches = re.findall(pattern, text)\n",
    "\n",
    "# Displaying the results\n",
    "if matches:\n",
    "    print(f\"Matches found: {matches}\")\n",
    "else:\n",
    "    print(\"No matches found.\")"
   ],
   "outputs": [],
   "execution_count": null
  },
  {
   "cell_type": "markdown",
   "metadata": {},
   "source": [
    "## Section 4: Negated Character Classes: `[^]`\n",
    "\n",
    "A negated character class matches any character *except* those listed within the brackets. For example, `[^aeiou]` matches any character except vowels.\n",
    "\n",
    "### Example\n",
    "To match any character except vowels, you would use the pattern `[^aeiou]`.\n",
    "\n",
    "### Interactive Exercise 4\n",
    "Search for all consonants in the text."
   ]
  },
  {
   "cell_type": "code",
   "metadata": {},
   "source": [
    "# Input string\n",
    "text = \"The quick brown fox jumps over the lazy dog\"\n",
    "\n",
    "# User input for regex pattern\n",
    "pattern = input(\"Enter a regex pattern to search for consonants: \")\n",
    "\n",
    "# Search for pattern in text\n",
    "matches = re.findall(pattern, text)\n",
    "\n",
    "# Displaying the results\n",
    "if matches:\n",
    "    print(f\"Matches found: {matches}\")\n",
    "else:\n",
    "    print(\"No matches found.\")"
   ],
   "outputs": [],
   "execution_count": null
  },
  {
   "cell_type": "markdown",
   "metadata": {},
   "source": [
    "## Section 5: Predefined Character Classes: `\\d`, `\\D`, `\\w`, `\\W`\n",
    "\n",
    "There are a few predefined character classes that make common patterns easier to express:\n",
    "- `\\d` matches any digit (0-9).\n",
    "- `\\D` matches any non-digit.\n",
    "- `\\w` matches any alphanumeric character (letters and numbers).\n",
    "- `\\W` matches any non-alphanumeric character.\n",
    "\n",
    "### Interactive Exercise 5\n",
    "Find all digits in the following text."
   ]
  },
  {
   "cell_type": "code",
   "metadata": {},
   "source": [
    "# Input string\n",
    "text = \"My address is 1234 Elm St. Apt 567\"\n",
    "\n",
    "# User input for regex pattern\n",
    "pattern = input(\"Enter a regex pattern to find digits: \")\n",
    "\n",
    "# Search for pattern in text\n",
    "matches = re.findall(pattern, text)\n",
    "\n",
    "# Displaying the results\n",
    "if matches:\n",
    "    print(f\"Matches found: {matches}\")\n",
    "else:\n",
    "    print(\"No matches found.\")"
   ],
   "outputs": [],
   "execution_count": null
  },
  {
   "cell_type": "markdown",
   "metadata": {},
   "source": [
    "## Section 6: Quantifiers: `*`, `+`, `?`, `{}`\n",
    "\n",
    "Quantifiers specify how many instances of a character, group, or character class must be present in the input for a match.\n",
    "\n",
    "- `*` matches 0 or more occurrences.\n",
    "- `+` matches 1 or more occurrences.\n",
    "- `?` matches 0 or 1 occurrence.\n",
    "- `{n}` matches exactly n occurrences.\n",
    "- `{n,}` matches n or more occurrences.\n",
    "- `{n,m}` matches between n and m occurrences.\n",
    "\n",
    "### Interactive Exercise 6\n",
    "Try matching sequences of 1 or more digits in the following string."
   ]
  },
  {
   "cell_type": "code",
   "metadata": {},
   "source": [
    "# Input string\n",
    "text = \"The number 123 is bigger than 12 and 1.\"\n",
    "\n",
    "# User input for regex pattern\n",
    "pattern = input(\"Enter a regex pattern with a quantifier to match one or more digits: \")\n",
    "\n",
    "# Search for pattern in text\n",
    "matches = re.findall(pattern, text)\n",
    "\n",
    "# Displaying the results\n",
    "if matches:\n",
    "    print(f\"Matches found: {matches}\")\n",
    "else:\n",
    "    print(\"No matches found.\")"
   ],
   "outputs": [],
   "execution_count": null
  },
  {
   "cell_type": "markdown",
   "metadata": {},
   "source": [
    "## Section 7: Anchors: `^` and `$`\n",
    "\n",
    "Anchors are used to match positions within a string, rather than actual characters.\n",
    "\n",
    "- `^` matches the start of a string.\n",
    "- `$` matches the end of a string.\n",
    "\n",
    "### Interactive Exercise 7\n",
    "Try matching strings that start with a word using the `^` anchor."
   ]
  },
  {
   "cell_type": "code",
   "metadata": {},
   "source": [
    "# Input string\n",
    "text = \"Start strong and end strong.\"\n",
    "\n",
    "# User input for regex pattern\n",
    "pattern = input(\"Enter a regex pattern to match the start of the string: \")\n",
    "\n",
    "# Search for pattern in text\n",
    "matches = re.findall(pattern, text)\n",
    "\n",
    "# Displaying the results\n",
    "if matches:\n",
    "    print(f\"Matches found: {matches}\")\n",
    "else:\n",
    "    print(\"No matches found.\")"
   ],
   "outputs": [],
   "execution_count": null
  },
  {
   "cell_type": "markdown",
   "metadata": {},
   "source": [
    "## Section 8: Escape Sequences: `\\`\n",
    "\n",
    "The backslash (`\\`) is used in regex to escape special characters. For example, to match a literal `.` (dot), you need to escape it as `\\.`.\n",
    "\n",
    "### Interactive Exercise 8\n",
    "Try matching periods (`.`) in the text below."
   ]
  },
  {
   "cell_type": "code",
   "metadata": {},
   "source": [
    "# Input string\n",
    "text = \"He said, 'Hello.' Then, he left.\"\n",
    "\n",
    "# User input for regex pattern\n",
    "pattern = input(\"Enter a regex pattern to match periods: \")\n",
    "\n",
    "# Search for pattern in text\n",
    "matches = re.findall(pattern, text)\n",
    "\n",
    "# Displaying the results\n",
    "if matches:\n",
    "    print(f\"Matches found: {matches}\")\n",
    "else:\n",
    "    print(\"No matches found.\")"
   ],
   "outputs": [],
   "execution_count": null
  },
  {
   "cell_type": "markdown",
   "metadata": {},
   "source": [
    "## Section 9: Alternation: `|`\n",
    "\n",
    "The alternation operator (`|`) acts like a logical OR. It matches either the expression before or after the `|`.\n",
    "\n",
    "### Example\n",
    "To match either \"cat\" or \"dog\", you can use the pattern `cat|dog`.\n",
    "\n",
    "### Interactive Exercise 9\n",
    "Match either \"apple\" or \"orange\" in the following text."
   ]
  },
  {
   "cell_type": "code",
   "metadata": {},
   "source": [
    "# Input string\n",
    "text = \"I like apples and oranges.\"\n",
    "\n",
    "# User input for regex pattern\n",
    "pattern = input(\"Enter a regex pattern using alternation to match 'apple' or 'orange': \")\n",
    "\n",
    "# Search for pattern in text\n",
    "matches = re.findall(pattern, text)\n",
    "\n",
    "# Displaying the results\n",
    "if matches:\n",
    "    print(f\"Matches found: {matches}\")\n",
    "else:\n",
    "    print(\"No matches found.\")"
   ],
   "outputs": [],
   "execution_count": null
  },
  {
   "cell_type": "markdown",
   "metadata": {},
   "source": [
    "## Section 10: Grouping and Capturing: `()`\n",
    "\n",
    "Parentheses (`()`) are used for grouping parts of a pattern and capturing matched sub-patterns.\n",
    "\n",
    "### Example\n",
    "To capture the year and month in a date format like \"2023-09\", you can use `([0-9]{4})-([0-9]{2})`.\n",
    "\n",
    "### Interactive Exercise 10\n",
    "Capture the year and month in the following string."
   ]
  },
  {
   "cell_type": "code",
   "metadata": {},
   "source": [
    "# Input string\n",
    "text = \"The release date is 2023-09-25.\"\n",
    "\n",
    "# User input for regex pattern\n",
    "pattern = input(\"Enter a regex pattern to capture year and month: \")\n",
    "\n",
    "# Search for pattern in text\n",
    "matches = re.findall(pattern, text)\n",
    "\n",
    "# Displaying the results\n",
    "if matches:\n",
    "    print(f\"Matches found: {matches}\")\n",
    "else:\n",
    "    print(\"No matches found.\")"
   ],
   "outputs": [],
   "execution_count": null
  },
  {
   "cell_type": "markdown",
   "metadata": {},
   "source": [
    "## Continue the tutorial\n",
    "\n",
    "Follow the same format for the remaining 30 sections. For each concept (e.g., Lookahead, Lookbehind, Recursive Patterns), provide an explanation, examples, and an interactive exercise.\n",
    "\n",
    "### Tips for Advanced Sections:\n",
    "- **Lookahead/Lookbehind**: Demonstrate how to use `(?=...)` and `(?<=...)` to assert conditions about text around the matching pattern.\n",
    "- **Named Capture Groups**: Show how to use `(?P<name>...)` for assigning names to capture groups.\n",
    "- **Recursive Patterns**: For advanced users, show how to implement recursive regex patterns.\n",
    "- **HTML Parsing with Regex**: Use this section to explain why regex is not suitable for parsing HTML (and suggest alternatives like `BeautifulSoup`).\n"
   ]
  }
 ],
  {
   "cell_type": "markdown",
   "metadata": {},
   "source": [
    "## Section 11: Non-Capturing Groups: `(?:)`\n",
    "\n",
    "Non-capturing groups allow you to group parts of a regex without capturing the matched text for later use. This is useful when you want to group parts of a pattern but don't need the matched part to be extracted.\n",
    "\n",
    "### Example\n",
    "If you want to match `cat` or `dog` without capturing them, you can use `(?:cat|dog)`.\n",
    "\n",
    "### Interactive Exercise 11\n",
    "Try to match \"cat\" or \"dog\" but don’t capture the matched part."
   ]
  },
  {
   "cell_type": "code",
   "metadata": {},
   "source": [
    "# Input string\n",
    "text = \"I have a cat and a dog.\"\n",
    "\n",
    "# User input for regex pattern\n",
    "pattern = input(\"Enter a regex pattern with non-capturing groups: \")\n",
    "\n",
    "# Search for pattern in text\n",
    "matches = re.findall(pattern, text)\n",
    "\n",
    "# Displaying the results\n",
    "if matches:\n",
    "    print(f\"Matches found: {matches}\")\n",
    "else:\n",
    "    print(\"No matches found.\")"
   ],
   "outputs": [],
   "execution_count": null
  },
  {
   "cell_type": "markdown",
   "metadata": {},
   "source": [
    "## Section 12: Lookahead Assertions: `(?=)`\n",
    "\n",
    "Lookahead assertions allow you to check if a certain pattern exists after the current position without including it in the match. They do not consume characters in the input string.\n",
    "\n",
    "### Example\n",
    "To match a digit followed by a lowercase letter without consuming the letter, use `\\d(?=[a-z])`.\n",
    "\n",
    "### Interactive Exercise 12\n",
    "Match any digit that is followed by a lowercase letter, but don’t include the letter in the result."
   ]
  },
  {
   "cell_type": "code",
   "metadata": {},
   "source": [
    "# Input string\n",
    "text = \"1a 2b 3C 4D\"\n",
    "\n",
    "# User input for regex pattern\n",
    "pattern = input(\"Enter a regex pattern using lookahead assertions: \")\n",
    "\n",
    "# Search for pattern in text\n",
    "matches = re.findall(pattern, text)\n",
    "\n",
    "# Displaying the results\n",
    "if matches:\n",
    "    print(f\"Matches found: {matches}\")\n",
    "else:\n",
    "    print(\"No matches found.\")"
   ],
   "outputs": [],
   "execution_count": null
  },
  {
   "cell_type": "markdown",
   "metadata": {},
   "source": [
    "## Section 13: Negative Lookahead: `(?! )`\n",
    "\n",
    "Negative lookahead allows you to match a pattern only if it is **not** followed by another pattern. Like lookahead assertions, it does not consume characters in the input string.\n",
    "\n",
    "### Example\n",
    "To match a digit that is **not** followed by a lowercase letter, use `\\d(?![a-z])`.\n",
    "\n",
    "### Interactive Exercise 13\n",
    "Match any digit that is not followed by a lowercase letter."
   ]
  },
  {
   "cell_type": "code",
   "metadata": {},
   "source": [
    "# Input string\n",
    "text = \"1a 2b 3C 4D\"\n",
    "\n",
    "# User input for regex pattern\n",
    "pattern = input(\"Enter a regex pattern using negative lookahead: \")\n",
    "\n",
    "# Search for pattern in text\n",
    "matches = re.findall(pattern, text)\n",
    "\n",
    "# Displaying the results\n",
    "if matches:\n",
    "    print(f\"Matches found: {matches}\")\n",
    "else:\n",
    "    print(\"No matches found.\")"
   ],
   "outputs": [],
   "execution_count": null
  },
  {
   "cell_type": "markdown",
   "metadata": {},
   "source": [
    "## Section 14: Lookbehind Assertions: `(?<=)`\n",
    "\n",
    "Lookbehind assertions are used to match a pattern that is preceded by another pattern without consuming characters in the input string.\n",
    "\n",
    "### Example\n",
    "To match a lowercase letter that is preceded by a digit, use `(?<=\\d)[a-z]`.\n",
    "\n",
    "### Interactive Exercise 14\n",
    "Match any lowercase letter that is preceded by a digit."
   ]
  },
  {
   "cell_type": "code",
   "metadata": {},
   "source": [
    "# Input string\n",
    "text = \"1a 2b 3C 4D\"\n",
    "\n",
    "# User input for regex pattern\n",
    "pattern = input(\"Enter a regex pattern using lookbehind assertions: \")\n",
    "\n",
    "# Search for pattern in text\n",
    "matches = re.findall(pattern, text)\n",
    "\n",
    "# Displaying the results\n",
    "if matches:\n",
    "    print(f\"Matches found: {matches}\")\n",
    "else:\n",
    "    print(\"No matches found.\")"
   ],
   "outputs": [],
   "execution_count": null
  },
  {
   "cell_type": "markdown",
   "metadata": {},
   "source": [
    "## Section 15: Negative Lookbehind: `(?<! )`\n",
    "\n",
    "Negative lookbehind allows you to match a pattern only if it is **not** preceded by another pattern.\n",
    "\n",
    "### Example\n",
    "To match a lowercase letter that is **not** preceded by a digit, use `(?<!\\d)[a-z]`.\n",
    "\n",
    "### Interactive Exercise 15\n",
    "Match any lowercase letter that is not preceded by a digit."
   ]
  },
  {
   "cell_type": "code",
   "metadata": {},
   "source": [
    "# Input string\n",
    "text = \"1a 2b 3C dE fG\"\n",
    "\n",
    "# User input for regex pattern\n",
    "pattern = input(\"Enter a regex pattern using negative lookbehind: \")\n",
    "\n",
    "# Search for pattern in text\n",
    "matches = re.findall(pattern, text)\n",
    "\n",
    "# Displaying the results\n",
    "if matches:\n",
    "    print(f\"Matches found: {matches}\")\n",
    "else:\n",
    "    print(\"No matches found.\")"
   ],
   "outputs": [],
   "execution_count": null
  },
  {
   "cell_type": "markdown",
   "metadata": {},
   "source": [
    "## Section 16: Greedy vs Lazy Matching\n",
    "\n",
    "Regex quantifiers like `*`, `+`, and `?` are **greedy** by default. This means they will try to match as much as possible.\n",
    "\n",
    "By adding a `?` after a quantifier, you make it **lazy**, which means it will match as little as possible.\n",
    "\n",
    "### Example\n",
    "To match the smallest possible string between two `\"` characters, use `\".*?\"` (lazy matching).\n",
    "\n",
    "### Interactive Exercise 16\n",
    "Match the shortest string between two double quotes."
   ]
  },
  {
   "cell_type": "code",
   "metadata": {},
   "source": [
    "# Input string\n",
    "text = 'The \"quick\" brown \"fox\" jumps.'\n",
    "\n",
    "# User input for regex pattern\n",
    "pattern = input(\"Enter a regex pattern for lazy matching: \")\n",
    "\n",
    "# Search for pattern in text\n",
    "matches = re.findall(pattern, text)\n",
    "\n",
    "# Displaying the results\n",
    "if matches:\n",
    "    print(f\"Matches found: {matches}\")\n",
    "else:\n",
    "    print(\"No matches found.\")"
   ],
   "outputs": [],
   "execution_count": null
  },
  {
   "cell_type": "markdown",
   "metadata": {},
   "source": [
    "## Section 17: Word Boundaries: `\\b`\n",
    "\n",
    "Word boundaries (`\\b`) match positions where one side of the position is a word character and the other side is not a word character (either the start/end of a string or a non-word character).\n",
    "\n",
    "### Example\n",
    "To match the word `fox` as a standalone word, use `\\bfox\\b`.\n",
    "\n",
    "### Interactive Exercise 17\n",
    "Match the word `dog` as a standalone word in the following text."
   ]
  },
  {
   "cell_type": "code",
   "metadata": {},
   "source": [
    "# Input string\n",
    "text = \"The dog barked at the other dogs.\"\n",
    "\n",
    "# User input for regex pattern\n",
    "pattern = input(\"Enter a regex pattern using word boundaries: \")\n",
    "\n",
    "# Search for pattern in text\n",
    "matches = re.findall(pattern, text)\n",
    "\n",
    "# Displaying the results\n",
    "if matches:\n",
    "    print(f\"Matches found: {matches}\")\n",
    "else:\n",
    "    print(\"No matches found.\")"
   ],
   "outputs": [],
   "execution_count": null
  },
  {
   "cell_type": "markdown",
   "metadata": {},
   "source": [
    "## Section 18: Global vs Case-Insensitive Matching: `g`, `i` flags\n",
    "\n",
    "Regex flags modify the behavior of the pattern. Two commonly used flags are:\n",
    "- `g`: Global search, meaning the pattern is searched for throughout the string.\n",
    "- `i`: Case-insensitive matching, meaning uppercase and lowercase characters are treated as the same.\n",
    "\n",
    "### Example\n",
    "To match the word `dog` in a case-insensitive manner, use the `i` flag.\n",
    "\n",
    "### Interactive Exercise 18\n",
    "Match the word `dog` in a case-insensitive way."
   ]
  },
  {
   "cell_type": "code",
   "metadata": {},
   "source": [
    "# Input string\n",
    "text = \"The Dog barked at the DOG and the dog.\"\n",
    "\n",
    "# User input for regex pattern\n",
    "pattern = input(\"Enter a regex pattern with case-insensitive matching: \")\n",
    "\n",
    "# Search for pattern in text (case-insensitive)\n",
    "matches = re.findall(pattern, text, re.IGNORECASE)\n",
    "\n",
    "# Displaying the results\n",
    "if matches:\n",
    "    print(f\"Matches found: {matches}\")\n",
    "else:\n",
    "    print(\"No matches found.\")"
   ],
   "outputs": [],
   "execution_count": null
  },
  {
   "cell_type": "markdown",
   "metadata": {},
   "source": [
    "## Section 19: Unicode Support\n",
    "\n",
    "Regex in Python also supports Unicode matching by default. This means patterns like `\\w` will match Unicode letters, digits, and the underscore.\n",
    "\n",
    "### Example\n",
    "To match any word in a string that contains Unicode characters, use `\\w+`.\n",
    "\n",
    "### Interactive Exercise 19\n",
    "Match the Unicode word in the text below."
   ]
  },
  {
   "cell_type": "code",
   "metadata": {},
   "source": [
    "# Input string\n",
    "text = \"This is a test with Unicode: π, 𝛼, 你好, and Hello\"\n",
    "\n",
    "# User input for regex pattern\n",
    "pattern = input(\"Enter a regex pattern to match Unicode words: \")\n",
    "\n",
    "# Search for pattern in text\n",
    "matches = re.findall(pattern, text)\n",
    "\n",
    "# Displaying the results\n",
    "if matches:\n",
    "    print(f\"Matches found: {matches}\")\n",
    "else:\n",
    "    print(\"No matches found.\")"
   ],
   "outputs": [],
   "execution_count": null
  },
  {
   "cell_type": "markdown",
   "metadata": {},
   "source": [
    "## Section 20: Regex Substitution (Replace)\n",
    "\n",
    "Regex substitution is used to replace matched patterns in a string. The `re.sub()` function takes a pattern, a replacement string, and the original string as input.\n",
    "\n",
    "### Example\n",
    "To replace all occurrences of a digit with an `X`, you can use `re.sub('\\d', 'X', text)`.\n",
    "\n",
    "### Interactive Exercise 20\n",
    "Replace all digits in the following text with `X`."
   ]
  },
  {
   "cell_type": "code",
   "metadata": {},
   "source": [
    "# Input string\n",
    "text = \"My address is 123 Elm Street, Apt 4.\"\n",
    "\n",
    "# User input for regex pattern\n",
    "pattern = input(\"Enter a regex pattern to match digits: \")\n",
    "\n",
    "# Substituting pattern with 'X'\n",
    "replaced_text = re.sub(pattern, 'X', text)\n",
    "\n",
    "# Displaying the result\n",
    "print(f\"Replaced text: {replaced_text}\")"
   ],
   "outputs": [],
   "execution_count": null
  }
 ],
  {
   "cell_type": "markdown",
   "metadata": {},
   "source": [
    "## Section 21: Extracting Substrings with Regex\n",
    "\n",
    "Regex is often used to extract specific parts of a string, like dates, email addresses, or names. The `re.findall()` and `re.search()` functions are commonly used for this purpose.\n",
    "\n",
    "### Example\n",
    "To extract dates in the format `YYYY-MM-DD` from a string, use the pattern `\\d{4}-\\d{2}-\\d{2}`.\n",
    "\n",
    "### Interactive Exercise 21\n",
    "Extract all dates in `YYYY-MM-DD` format from the text below."
   ]
  },
  {
   "cell_type": "code",
   "metadata": {},
   "source": [
    "# Input string\n",
    "text = \"Important dates: 2023-01-15, 2024-12-25, and 2025-08-30.\"\n",
    "\n",
    "# User input for regex pattern\n",
    "pattern = input(\"Enter a regex pattern to extract dates: \")\n",
    "\n",
    "# Extracting dates\n",
    "matches = re.findall(pattern, text)\n",
    "\n",
    "# Displaying the results\n",
    "if matches:\n",
    "    print(f\"Dates extracted: {matches}\")\n",
    "else:\n",
    "    print(\"No dates found.\")"
   ],
   "outputs": [],
   "execution_count": null
  },
  {
   "cell_type": "markdown",
   "metadata": {},
   "source": [
    "## Section 22: Multi-line Mode: `m`\n",
    "\n",
    "In multi-line mode, the `^` and `$` anchors match the start and end of each line, not just the start and end of the entire string. To enable multi-line mode, use the `re.MULTILINE` flag.\n",
    "\n",
    "### Example\n",
    "To match lines that start with a digit, use `^\\d` with the `re.MULTILINE` flag.\n",
    "\n",
    "### Interactive Exercise 22\n",
    "Match all lines that start with a digit in the text below."
   ]
  },
  {
   "cell_type": "code",
   "metadata": {},
   "source": [
    "# Input string\n",
    "text = \"1. First line\\nSecond line\\n3. Third line\\n4. Fourth line\"\n",
    "\n",
    "# User input for regex pattern\n",
    "pattern = input(\"Enter a regex pattern to match lines starting with a digit: \")\n",
    "\n",
    "# Extracting lines that match the pattern (multiline mode)\n",
    "matches = re.findall(pattern, text, re.MULTILINE)\n",
    "\n",
    "# Displaying the results\n",
    "if matches:\n",
    "    print(f\"Matches found: {matches}\")\n",
    "else:\n",
    "    print(\"No matches found.\")"
   ],
   "outputs": [],
   "execution_count": null
  },
  {
   "cell_type": "markdown",
   "metadata": {},
   "source": [
    "## Section 23: Dotall Mode: `s`\n",
    "\n",
    "In dotall mode, the dot (`.`) matches every character, including newlines (`\\n`). To enable dotall mode, use the `re.DOTALL` flag.\n",
    "\n",
    "### Example\n",
    "To match any character across multiple lines, use `.` with the `re.DOTALL` flag.\n",
    "\n",
    "### Interactive Exercise 23\n",
    "Match any character, including newlines, across multiple lines."
   ]
  },
  {
   "cell_type": "code",
   "metadata": {},
   "source": [
    "# Input string\n",
    "text = \"Line 1\\nLine 2\\nLine 3\"\n",
    "\n",
    "# User input for regex pattern\n",
    "pattern = input(\"Enter a regex pattern to match all characters, including newlines: \")\n",
    "\n",
    "# Extracting matches (dotall mode)\n",
    "matches = re.findall(pattern, text, re.DOTALL)\n",
    "\n",
    "# Displaying the results\n",
    "if matches:\n",
    "    print(f\"Matches found: {matches}\")\n",
    "else:\n",
    "    print(\"No matches found.\")"
   ],
   "outputs": [],
   "execution_count": null
  },
  {
   "cell_type": "markdown",
   "metadata": {},
   "source": [
    "## Section 24: Anchors in Multi-line Mode\n",
    "\n",
    "Anchors like `^` and `$` behave differently when multi-line mode (`re.MULTILINE`) is enabled. Instead of matching the start or end of the entire string, they match the start or end of each line.\n",
    "\n",
    "### Example\n",
    "To match lines ending with a period (`.`), use `\\.$` with `re.MULTILINE`.\n",
    "\n",
    "### Interactive Exercise 24\n",
    "Match all lines that end with a period."
   ]
  },
  {
   "cell_type": "code",
   "metadata": {},
   "source": [
    "# Input string\n",
    "text = \"First line.\\nSecond line\\nThird line.\\nFourth line\"\n",
    "\n",
    "# User input for regex pattern\n",
    "pattern = input(\"Enter a regex pattern to match lines ending with a period: \")\n",
    "\n",
    "# Extracting matches (multiline mode)\n",
    "matches = re.findall(pattern, text, re.MULTILINE)\n",
    "\n",
    "# Displaying the results\n",
    "if matches:\n",
    "    print(f\"Matches found: {matches}\")\n",
    "else:\n",
    "    print(\"No matches found.\")"
   ],
   "outputs": [],
   "execution_count": null
  },
  {
   "cell_type": "markdown",
   "metadata": {},
   "source": [
    "## Section 25: Backreferences in Regex\n",
    "\n",
    "Backreferences allow you to reuse parts of the pattern that were previously captured in capturing groups. This is useful for matching repeated substrings.\n",
    "\n",
    "### Example\n",
    "To match a word followed by the same word, use `(\\w+) \\1`. The `\\1` refers to the first captured group.\n",
    "\n",
    "### Interactive Exercise 25\n",
    "Match repeated words in the following text."
   ]
  },
  {
   "cell_type": "code",
   "metadata": {},
   "source": [
    "# Input string\n",
    "text = \"He said hello hello and goodbye goodbye.\"\n",
    "\n",
    "# User input for regex pattern\n",
    "pattern = input(\"Enter a regex pattern using backreferences: \")\n",
    "\n",
    "# Extracting matches\n",
    "matches = re.findall(pattern, text)\n",
    "\n",
    "# Displaying the results\n",
    "if matches:\n",
    "    print(f\"Matches found: {matches}\")\n",
    "else:\n",
    "    print(\"No matches found.\")"
   ],
   "outputs": [],
   "execution_count": null
  },
  {
   "cell_type": "markdown",
   "metadata": {},
   "source": [
    "## Section 26: Named Capture Groups\n",
    "\n",
    "Named capture groups allow you to name the capturing groups in your regex patterns. This can make the resulting match more readable.\n",
    "\n",
    "### Example\n",
    "To capture a date and name the groups `year`, `month`, and `day`, use `(?P<year>\\d{4})-(?P<month>\\d{2})-(?P<day>\\d{2})`.\n",
    "\n",
    "### Interactive Exercise 26\n",
    "Extract dates with named capture groups in the following text."
   ]
  },
  {
   "cell_type": "code",
   "metadata": {},
   "source": [
    "# Input string\n",
    "text = \"Dates: 2023-01-15, 2024-12-25.\"\n",
    "\n",
    "# User input for regex pattern\n",
    "pattern = input(\"Enter a regex pattern with named capture groups to extract dates: \")\n",
    "\n",
    "# Extracting named groups\n",
    "matches = re.finditer(pattern, text)\n",
    "\n",
    "# Displaying the results\n",
    "for match in matches:\n",
    "    print(f\"Year: {match.group('year')}, Month: {match.group('month')}, Day: {match.group('day')}\")"
   ],
   "outputs": [],
   "execution_count": null
  },
  {
   "cell_type": "markdown",
   "metadata": {},
   "source": [
    "## Section 27: Recursive Patterns\n",
    "\n",
    "Recursive patterns allow the regex engine to match a pattern that contains a part of itself. This is useful for parsing nested structures like parentheses.\n",
    "\n",
    "### Example\n",
    "To match nested parentheses, you can use the pattern `\\(([^()]|(?R))*\\)`.\n",
    "\n",
    "### Interactive Exercise 27\n",
    "Match nested parentheses in the following text."
   ]
  },
  {
   "cell_type": "code",
   "metadata": {},
   "source": [
    "# Input string\n",
    "text = \"(a (b (c)))\"\n",
    "\n",
    "# User input for regex pattern\n",
    "pattern = input(\"Enter a regex pattern to match nested parentheses: \")\n",
    "\n",
    "# Extracting nested parentheses\n",
    "matches = re.findall(pattern, text)\n",
    "\n",
    "# Displaying the results\n",
    "if matches:\n",
    "    print(f\"Matches found: {matches}\")\n",
    "else:\n",
    "    print(\"No matches found.\")"
   ],
   "outputs": [],
   "execution_count": null
  },
  {
   "cell_type": "markdown",
   "metadata": {},
   "source": [
    "## Section 28: Regex and HTML Parsing (Why Regex is NOT for HTML)\n",
    "\n",
    "Using regex to parse HTML is not recommended because HTML is a context-sensitive language, while regex is not. There are libraries like `BeautifulSoup` or `lxml` that are designed to parse HTML.\n",
    "\n",
    "### Example\n",
    "Instead of using regex, you can use `BeautifulSoup` to parse HTML.\n",
    "\n",
    "### Interactive Exercise 28\n",
    "Try extracting content inside HTML tags using regex (but this is discouraged)."
   ]
  },
  {
   "cell_type": "code",
   "metadata": {},
   "source": [
    "# Input string (HTML)\n",
    "text = \"<div>Hello</div> <p>World</p>\"\n",
    "\n",
    "# User input for regex pattern\n",
    "pattern = input(\"Enter a regex pattern to extract content inside HTML tags (e.g. <tag>content</tag>): \")\n",
    "\n",
    "# Extracting HTML content (not recommended)\n",
    "matches = re.findall(pattern, text)\n",
    "\n",
    "# Displaying the results\n",
    "if matches:\n",
    "    print(f\"Matches found: {matches}\")\n",
    "else:\n",
    "    print(\"No matches found.\")\n",
    "\n",
    "# Note: This is discouraged. It's better to use an HTML parser like BeautifulSoup."
   ],
   "outputs": [],
   "execution_count": null
  },
  {
   "cell_type": "markdown",
   "metadata": {},
   "source": [
    "## Section 29: Common Regex Patterns\n",
    "\n",
    "There are many common regex patterns that are useful for different applications, such as matching email addresses, phone numbers, and URLs.\n",
    "\n",
    "### Example\n",
    "To match a URL, you can use `https?://[\\w.-]+`.\n",
    "\n",
    "### Interactive Exercise 29\n",
    "Match URLs in the following text."
   ]
  },
  {
   "cell_type": "code",
   "metadata": {},
   "source": [
    "# Input string\n",
    "text = \"Check out https://www.example.com and http://example.org\"\n",
    "\n",
    "# User input for regex pattern\n",
    "pattern = input(\"Enter a regex pattern to match URLs: \")\n",
    "\n",
    "# Extracting URLs\n",
    "matches = re.findall(pattern, text)\n",
    "\n",
    "# Displaying the results\n",
    "if matches:\n",
    "    print(f\"URLs found: {matches}\")\n",
    "else:\n",
    "    print(\"No URLs found.\")"
   ],
   "outputs": [],
   "execution_count": null
  },
  {
   "cell_type": "markdown",
   "metadata": {},
   "source": [
    "## Section 30: Email Validation with Regex\n",
    "\n",
    "A common use of regex is to validate email addresses. A simple pattern for matching an email address is `\\b[A-Za-z0-9._%+-]+@[A-Za-z0-9.-]+\\.[A-Z|a-z]{2,}\\b`.\n",
    "\n",
    "### Example\n",
    "This pattern matches typical email addresses.\n",
    "\n",
    "### Interactive Exercise 30\n",
    "Match valid email addresses in the following text."
   ]
  },
  {
   "cell_type": "code",
   "metadata": {},
   "source": [
    "# Input string\n",
    "text = \"Contact us at support@example.com or admin@example.org.\"\n",
    "\n",
    "# User input for regex pattern\n",
    "pattern = input(\"Enter a regex pattern to match email addresses: \")\n",
    "\n",
    "# Extracting email addresses\n",
    "matches = re.findall(pattern, text)\n",
    "\n",
    "# Displaying the results\n",
    "if matches:\n",
    "    print(f\"Email addresses found: {matches}\")\n",
    "else:\n",
    "    print(\"No email addresses found.\")"
   ],
   "outputs": [],
   "execution_count": null
  }
 ],
 "metadata": {
  "kernelspec": {
   "display_name": "Python 3",
   "language": "python",
   "name": "python3"
  },
  "language_info": {
   "codemirror_mode": {
    "name": "ipython",
    "version": 3
   },
   "file_extension": ".py",
   "mimetype": "text/x-python",
   "name": "python",
   "nbconvert_exporter": "python",
   "version": "3.8.5"
  }
 },
 "nbformat": 4,
 "nbformat_minor": 5
}
